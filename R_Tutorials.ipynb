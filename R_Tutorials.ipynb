{
  "nbformat": 4,
  "nbformat_minor": 0,
  "metadata": {
    "colab": {
      "name": "Tutorials.ipynb",
      "provenance": [],
      "collapsed_sections": [
        "rGqst8aK6UfT",
        "cSnqdvUFCCjr",
        "3kJY9EiW7_RC",
        "iZO_XnbV9nEz",
        "BxepbcqcCxN5",
        "ydeBpTwdIWfk",
        "UulnF241hCdn",
        "kCpydd-Cf2bk",
        "0tXW7CCuCKzT",
        "YOvVfw8OqGEB",
        "RwbbuLKk1eIM"
      ],
      "authorship_tag": "ABX9TyOGbEndjIKCp+Tksk7vLBsi",
      "include_colab_link": true
    },
    "kernelspec": {
      "name": "ir",
      "display_name": "R"
    }
  },
  "cells": [
    {
      "cell_type": "markdown",
      "metadata": {
        "id": "view-in-github",
        "colab_type": "text"
      },
      "source": [
        "<a href=\"https://colab.research.google.com/github/scrameri/Umweltbiologie/blob/master/R_Tutorials.ipynb\" target=\"_parent\"><img src=\"https://colab.research.google.com/assets/colab-badge.svg\" alt=\"Open In Colab\"/></a>"
      ]
    },
    {
      "cell_type": "markdown",
      "metadata": {
        "id": "cSnqdvUFCCjr",
        "colab_type": "text"
      },
      "source": [
        "## 1. Install packages\n",
        "This Jupyter notebook is based on the programming language [`R`](https://www.r-project.org/about.html) and has been tested on `R` version 3.6.3.\n",
        "\n",
        "Author: [Simon Crameri](https://peg.ethz.ch/people/person-detail.MTYzNTY1.TGlzdC80MzUsLTczMzM3Mzg4Ng==.html), ETH Zurich, May 2020\n",
        "\n",
        "Note: commands are sometimes wrapped in a `print` call. This is just to ensure a `R`-console-like print output, and is generally not needed. Comments are sometimes wrapped in a `cat` call, just to label the outputs of multi-line chunks of code."
      ]
    },
    {
      "cell_type": "code",
      "metadata": {
        "id": "kAtH7B0C6PrN",
        "colab_type": "code",
        "colab": {}
      },
      "source": [
        "need.pckg <- c(\"GGally\",\"ggplot2\",\"EnvStats\",\"multcomp\") # needed for this script\n",
        "if (any(!need.pckg %in% installed.packages())) {\n",
        "  for (i in need.pckg[!need.pckg %in% installed.packages()]) {\n",
        "    cat(\"installing\", i, \"...\\n\")\n",
        "    install.packages(i)\n",
        "  }\n",
        "}"
      ],
      "execution_count": 0,
      "outputs": []
    },
    {
      "cell_type": "markdown",
      "metadata": {
        "id": "3kJY9EiW7_RC",
        "colab_type": "text"
      },
      "source": [
        "### 1.1 Load libraries"
      ]
    },
    {
      "cell_type": "code",
      "metadata": {
        "id": "A2OL_NAN8HLC",
        "colab_type": "code",
        "colab": {
          "base_uri": "https://localhost:8080/",
          "height": 781
        },
        "outputId": "4bd88583-8dcc-4a18-ef1f-04fe95788182"
      },
      "source": [
        "library(\"GGally\") # for ggpairs()\n",
        "library(\"ggplot2\") # for ggplot()\n",
        "library(\"EnvStats\") # for qqPlot()\n",
        "library(\"multcomp\") # for glht()\n",
        "library(\"factoextra\") # for fviz_pca() plots"
      ],
      "execution_count": 5,
      "outputs": [
        {
          "output_type": "stream",
          "text": [
            "Registered S3 method overwritten by 'GGally':\n",
            "  method from   \n",
            "  +.gg   ggplot2\n",
            "\n",
            "\n",
            "Attaching package: ‘EnvStats’\n",
            "\n",
            "\n",
            "The following objects are masked from ‘package:stats’:\n",
            "\n",
            "    predict, predict.lm\n",
            "\n",
            "\n",
            "The following object is masked from ‘package:base’:\n",
            "\n",
            "    print.default\n",
            "\n",
            "\n",
            "Loading required package: mvtnorm\n",
            "\n",
            "Loading required package: survival\n",
            "\n",
            "Loading required package: TH.data\n",
            "\n",
            "Loading required package: MASS\n",
            "\n",
            "\n",
            "Attaching package: ‘MASS’\n",
            "\n",
            "\n",
            "The following object is masked from ‘package:EnvStats’:\n",
            "\n",
            "    boxcox\n",
            "\n",
            "\n",
            "\n",
            "Attaching package: ‘TH.data’\n",
            "\n",
            "\n",
            "The following object is masked from ‘package:MASS’:\n",
            "\n",
            "    geyser\n",
            "\n",
            "\n"
          ],
          "name": "stderr"
        }
      ]
    },
    {
      "cell_type": "markdown",
      "metadata": {
        "id": "6L549L6B8fZO",
        "colab_type": "text"
      },
      "source": [
        "***\n",
        "## 2. Read the data"
      ]
    },
    {
      "cell_type": "code",
      "metadata": {
        "id": "m0H-kKML8jD-",
        "colab_type": "code",
        "colab": {}
      },
      "source": [
        "# dataset for Data Exploration and ANOVA and Linear Models\n",
        "morph <- read.csv(\"https://raw.githubusercontent.com/scrameri/Umweltbiologie/master/Puzzle_ANOVA_LM.csv\")\n",
        "\n",
        "# datset for Multivariate Analyses\n",
        "d.mis <- read.csv(\"https://raw.githubusercontent.com/scrameri/Umweltbiologie/master/Multivariate.csv\", row.names = \"ID\")"
      ],
      "execution_count": 0,
      "outputs": []
    },
    {
      "cell_type": "markdown",
      "metadata": {
        "id": "Ih8AwVxs9ML4",
        "colab_type": "text"
      },
      "source": [
        "**Note**: the `.csv` file uses `,` rather than ; as field separators, which can cause troubles when opening the file in Excel on Mac. You can also save a version separated with `;`, but you will then need to set `sep = \";\"`, because the default argument is `read.csv(file, sep = \",\", dec = \".\")`. There is the complementary `read.csv2` function with default argument `read.csv2(file, sep = \";\", dec = \",\")`.\n",
        "\n"
      ]
    },
    {
      "cell_type": "markdown",
      "metadata": {
        "id": "IgjovqlNVY5K",
        "colab_type": "text"
      },
      "source": [
        "### 2.1 The *Dianthus* dataset (`morph`)"
      ]
    },
    {
      "cell_type": "code",
      "metadata": {
        "id": "V-Z0zsQ1VbWB",
        "colab_type": "code",
        "colab": {
          "base_uri": "https://localhost:8080/",
          "height": 330
        },
        "outputId": "6e1340da-7590-414c-d9fa-63b5cb086acd"
      },
      "source": [
        "str(morph)"
      ],
      "execution_count": 11,
      "outputs": [
        {
          "output_type": "stream",
          "text": [
            "'data.frame':\t123 obs. of  17 variables:\n",
            " $ ID           : Factor w/ 123 levels \"Fald_inf_1\",\"Fald_inf_2\",..: 1 2 3 4 5 6 7 8 9 10 ...\n",
            " $ Population   : Factor w/ 8 levels \"Faldumalp\",\"Gibidumsee\",..: 1 1 1 1 1 1 1 1 1 1 ...\n",
            " $ Elevation    : Factor w/ 2 levels \"high\",\"low\": 1 1 1 1 1 1 1 1 1 1 ...\n",
            " $ Date         : Factor w/ 7 levels \"10.7.2015\",\"4.8.2015\",..: 5 5 5 5 5 5 5 5 5 5 ...\n",
            " $ Infection    : Factor w/ 2 levels \"healthy\",\"infected\": 2 2 2 2 2 2 1 1 1 1 ...\n",
            " $ Sex          : Factor w/ 2 levels \"female\",\"hermaphroditic\": 2 2 2 2 2 2 2 2 2 2 ...\n",
            " $ Stalk_height : num  176 112 173 161 165 ...\n",
            " $ Stalk_count  : int  2 5 3 3 1 2 7 16 9 3 ...\n",
            " $ Bud_count    : int  5 0 4 3 4 4 1 4 4 3 ...\n",
            " $ Flower_count : int  1 1 1 1 1 1 1 1 1 1 ...\n",
            " $ Flower_diam  : num  14.1 14 12.8 13.3 14.8 13.2 17 14.6 17.3 11.2 ...\n",
            " $ Petal_length : num  5.6 5.3 6.3 4.8 6.5 7.2 8.2 7.7 7.7 4.4 ...\n",
            " $ Petal_width  : num  6.6 6.5 5.4 6.4 7.3 7.5 10.1 6 8.6 6.4 ...\n",
            " $ Sepal_length : num  12.9 12.6 11.9 13.2 14.1 14.5 18.6 15.3 14.5 12.9 ...\n",
            " $ Sepal_width  : num  4.7 3.1 3.5 3.3 3.6 3.3 3.7 3.1 3.2 2.8 ...\n",
            " $ Rosette_diam1: num  NA 69.4 93.2 NA 35 ...\n",
            " $ Rosette_diam2: num  NA 76.5 110.2 NA 57.6 ...\n"
          ],
          "name": "stdout"
        }
      ]
    },
    {
      "cell_type": "markdown",
      "metadata": {
        "id": "iZO_XnbV9nEz",
        "colab_type": "text"
      },
      "source": [
        "The `morph` dataset contains morphological measurements of eight populations of [*Dianthus carthusianorum*](https://www.infoflora.ch/de/flora/dianthus-carthusianorum.html) taken in Summer 2015 in Wallis (Switzerland). Populations were located in two classes of elevation (4 high, 4 low elevation).\n",
        "\n",
        "A few facts about [*D. carthusianorum*](https://de.wikipedia.org/wiki/Kart%C3%A4usernelke):\n",
        "- Karthäuser-Nelke in German, family Caryophyllaceae like *Silene*\n",
        "- native to Middle Europe, in dry habitats from colline to alpine (introduced to N America) \n",
        "- [gynodioecious](https://en.wikipedia.org/wiki/Gynodioecy), meaning that there are female and hermaphroditic individuals\n",
        "- perennial (or biennial), meaning that plants survive winter as rosettes or seeds\n",
        "- insect-pollinated\n",
        "- parasite: fungus [*Microbothryum*](https://fr.wikipedia.org/wiki/Microbotryum) *dianthorum* (anther smut fungus) that causes sterility and is transmitted by pollinators\n",
        "\n",
        "A few facts about the dataset:\n",
        "- ID: individual ID\n",
        "- Population: population ID\n",
        "- Elevation: elevation class\n",
        "- Date: measurement date\n",
        "- Infection: whether a plant was [infected](https://upload.wikimedia.org/wikipedia/commons/e/ef/Microbotryum_dianthorum_Dianthus_sp._2019_07_18_05.jpg) or healthy\n",
        "- Sex: whether a plant was hermaphroditic or female\n",
        "- Stalk_height: mean stalk height per plant (mm)\n",
        "- Stalk_count: number of stalks per plant\n",
        "- Bud_count: number of buds per plant\n",
        "- Flower_count: number of open flowers per plant\n",
        "- Flower_diam: flower (corolla) diameter (mm)\n",
        "- Petal and Sepal lengths and widths (mm)\n",
        "- Rosette_diam1: diameter of first rosette (mm) - only recorded at high elevation\n",
        "- Rosette_diam2: diameter of second rosette (mm) - only recorded at high elevation\n",
        "\n",
        "The experimental design and measurements have been done by [Ursina Walther](https://peg.ethz.ch/people/person-detail.html?persid=158239) (a PhD student in our group). She was interested in studying the evolution of floral traits in this species, especially in relation to the interaction between the plants and their Microbothryum parasite."
      ]
    },
    {
      "cell_type": "markdown",
      "metadata": {
        "id": "mx-w73bnYll6",
        "colab_type": "text"
      },
      "source": [
        "### 2.2 The *Dalbergia* dataset (`d.mis`)"
      ]
    },
    {
      "cell_type": "code",
      "metadata": {
        "id": "h1U69CztYpRB",
        "colab_type": "code",
        "colab": {
          "base_uri": "https://localhost:8080/",
          "height": 295
        },
        "outputId": "f9520b5b-04c0-4aed-eebe-1addca4845bd"
      },
      "source": [
        "str(d.mis)\n",
        "\n",
        "cat(\"\\nrownames:\\n\")\n",
        "print(head(rownames(d.mis)))"
      ],
      "execution_count": 21,
      "outputs": [
        {
          "output_type": "stream",
          "text": [
            "'data.frame':\t126 obs. of  12 variables:\n",
            " $ Species            : Factor w/ 8 levels \"Species1\",\"Species2\",..: 1 1 1 1 1 1 1 1 1 1 ...\n",
            " $ Region             : Factor w/ 2 levels \"North\",\"South\": 1 1 1 1 1 1 1 1 1 1 ...\n",
            " $ leaf.length        : num  66.7 74.9 108.2 60.7 81 ...\n",
            " $ leaflet.length     : num  6.7 10.34 9.83 11.85 11.97 ...\n",
            " $ leaflet.width      : num  2.75 4.96 6.15 5.25 5.52 ...\n",
            " $ leaflet.area       : num  14.3 41.9 48 50.6 48.1 ...\n",
            " $ leaflet.upper.hairy: int  3 3 3 3 3 3 3 3 3 3 ...\n",
            " $ leaflet.lower.hairy: int  3 3 3 NA 3 3 3 3 3 3 ...\n",
            " $ leaf.hairy         : int  3 3 3 3 3 3 3 3 3 3 ...\n",
            " $ leaflet.shape1     : num  0.031349 -0.029322 -0.127907 -0.001541 -0.000669 ...\n",
            " $ leaflet.shape2     : num  0.00889 0.00466 0.01281 -0.00471 0.00108 ...\n",
            " $ length.width       : num  2.49 2.1 1.63 2.26 2.13 ...\n",
            "\n",
            "rownames:\n",
            "[1] \"SH031\" \"SH047\" \"SH050\" \"SH052\" \"SH071\" \"SH099\"\n"
          ],
          "name": "stdout"
        }
      ]
    },
    {
      "cell_type": "markdown",
      "metadata": {
        "id": "8U-tAtQaShPU",
        "colab_type": "text"
      },
      "source": [
        "The `d.mis` dataset contains morphological measurements of 10 leaf characters in eight [*Dalbergia*](https://www.gbif.org/occurrence/gallery?country=MG&taxon_key=2968358) [rosewood](https://en.wikipedia.org/wiki/Rosewood) species from Madagascar. \n",
        " \n",
        "A few facts about the dataset:\n",
        "- ID: individual ID (already assigned to the `rownames` of the data)\n",
        "- Species: species ID (dummy)\n",
        "- leaf.length: length of leaf petiole and rachis (without terminal leaflet) in mm\n",
        "- leaflet.length: length of a leaflet im mm\n",
        "- leaflet.width: length of a leaflet in mm\n",
        "- leaflet.area: area in $mm^2$\n",
        "- leaflet.upper.hairy: hairiness score of upper leaflet surface (1 = glabrous, 2 = sparsely pubescent, 3 = densely pubescent)\n",
        "- leaflet.lower.hairy: same for lower leaflet surface\n",
        "- leaf.hairy: same for leaf rachis and petiole\n",
        "- leaflet.shape1: principal leaflet shape component 1 (see [Momocs](https://vbonhomme.github.io/Momocs/) package)\n",
        "- leaflet.shape2: principal leaflet shape component 2 (another aspect of shape)\n",
        "- length.width: leaflet length-to-width ratio\n",
        "\n",
        "All but the hairiness scores are median values over multiple measurements per individual."
      ]
    },
    {
      "cell_type": "markdown",
      "metadata": {
        "id": "rGqst8aK6UfT",
        "colab_type": "text"
      },
      "source": [
        "***\n",
        "## 3. Data Exploration\n"
      ]
    },
    {
      "cell_type": "markdown",
      "metadata": {
        "id": "7D29eD9yZXbS",
        "colab_type": "text"
      },
      "source": [
        "We will use the `morph` data set here."
      ]
    },
    {
      "cell_type": "code",
      "metadata": {
        "id": "TAhwlGZ49Nqv",
        "colab_type": "code",
        "colab": {}
      },
      "source": [
        "morph <- read.csv(\"https://raw.githubusercontent.com/scrameri/Umweltbiologie/master/Puzzle_ANOVA_LM.csv\")"
      ],
      "execution_count": 0,
      "outputs": []
    },
    {
      "cell_type": "markdown",
      "metadata": {
        "id": "UqjRppVhbl_9",
        "colab_type": "text"
      },
      "source": [
        "Before starting any analysis, always check that the data was read in correctly using `str`."
      ]
    },
    {
      "cell_type": "code",
      "metadata": {
        "id": "v28820uubno-",
        "colab_type": "code",
        "colab": {}
      },
      "source": [
        "str(morph)"
      ],
      "execution_count": 0,
      "outputs": []
    },
    {
      "cell_type": "markdown",
      "metadata": {
        "id": "LDghuTScbuyl",
        "colab_type": "text"
      },
      "source": [
        "The `dim` and `summary` function are also quite useful to get a first overview."
      ]
    },
    {
      "cell_type": "code",
      "metadata": {
        "id": "QoEl6ccQBnB1",
        "colab_type": "code",
        "colab": {
          "base_uri": "https://localhost:8080/",
          "height": 34
        },
        "outputId": "a087bd6d-2f13-4be9-ddd9-dabc37c48cbf"
      },
      "source": [
        "print(dim(morph)) # gives both nrow() and ncol() of the dataset\n"
      ],
      "execution_count": 25,
      "outputs": [
        {
          "output_type": "stream",
          "text": [
            "[1] 123  17\n"
          ],
          "name": "stdout"
        }
      ]
    },
    {
      "cell_type": "code",
      "metadata": {
        "id": "d0Y9LPAJBoZt",
        "colab_type": "code",
        "colab": {
          "base_uri": "https://localhost:8080/",
          "height": 52
        },
        "outputId": "a64e700a-a04b-4c1c-b4dd-6b92c87b3c3f"
      },
      "source": [
        "summary(morph$Stalk_height) # gives a summary for one variable"
      ],
      "execution_count": 26,
      "outputs": [
        {
          "output_type": "display_data",
          "data": {
            "text/plain": [
              "   Min. 1st Qu.  Median    Mean 3rd Qu.    Max. \n",
              "   28.2   136.4   212.0   256.7   380.0   670.0 "
            ]
          },
          "metadata": {
            "tags": []
          }
        }
      ]
    },
    {
      "cell_type": "markdown",
      "metadata": {
        "id": "Akt6WCz2CQZo",
        "colab_type": "text"
      },
      "source": [
        "![Question](https://img.icons8.com/flat_round/64/000000/question-mark.png)\n",
        " Based on what you now know about the study and the data:\n",
        "- what are the response variable(s)?\n",
        "- what are the explanatory variable(s)?"
      ]
    },
    {
      "cell_type": "markdown",
      "metadata": {
        "id": "BxepbcqcCxN5",
        "colab_type": "text"
      },
      "source": [
        "***\n",
        "\n",
        "### 3.1 Plot the data\n",
        "There are various plotting techniques to visualize data. Some people prefer the `R` base graphics, others learn the grammar of graphics implemented in [`ggplot2`](https://ggplot2.tidyverse.org/). For this practical, both approaches can be used. These are the basic functions for the most important plots, shown for `R` base graphics and `ggplot2` graphics:"
      ]
    },
    {
      "cell_type": "markdown",
      "metadata": {
        "id": "NR84dKhii6o-",
        "colab_type": "text"
      },
      "source": [
        "Use **Scatterplots** to plot two numeric variables (classes `num` for continuous, or `int` for discrete data) against each other. Scatterplots can be more informative if different *symbols* or *colours* for an additional factor, or *sizes* or *transparency* for an additional numeric variable are used."
      ]
    },
    {
      "cell_type": "code",
      "metadata": {
        "id": "oTKf9L38C3r4",
        "colab_type": "code",
        "colab": {
          "base_uri": "https://localhost:8080/",
          "height": 437
        },
        "outputId": "8e7c5d84-c090-4325-aeb8-303e69e44250"
      },
      "source": [
        "# base\n",
        "plot(Sepal_length ~ Petal_length, data = morph)"
      ],
      "execution_count": 6,
      "outputs": [
        {
          "output_type": "display_data",
          "data": {
            "image/png": "[encoded data removed]",
            "text/plain": [
              "plot without title"
            ]
          },
          "metadata": {
            "tags": [],
            "image/png": {
              "width": 420,
              "height": 420
            },
            "text/plain": {
              "width": 420,
              "height": 420
            }
          }
        }
      ]
    },
    {
      "cell_type": "code",
      "metadata": {
        "id": "LaXTNlvIC6pI",
        "colab_type": "code",
        "colab": {
          "base_uri": "https://localhost:8080/",
          "height": 95
        },
        "outputId": "f518c8f1-c3da-4c43-8d43-41df313ae213"
      },
      "source": [
        "# ggplot2\n",
        "ggplot(data = morph, aes(x = Petal_length, y = Sepal_length)) + geom_point()"
      ],
      "execution_count": 7,
      "outputs": [
        {
          "output_type": "error",
          "ename": "ERROR",
          "evalue": "ignored",
          "traceback": [
            "Error in ggplot(data = morph, aes(x = Petal_length, y = Sepal_length)): could not find function \"ggplot\"\nTraceback:\n"
          ]
        }
      ]
    },
    {
      "cell_type": "markdown",
      "metadata": {
        "id": "8swjuZPgDrMx",
        "colab_type": "text"
      },
      "source": [
        "Use **Boxplots** to plot a numeric variable against a categorical variable (class `factor`). Boxplots are summarizing the data. By default, the box is the *interquartile range* and contains 50% of the data points, while the whiskers extend to \"the most extreme data point which is no more than 1.5 times the interquartile range from the box\" (see cell 85). If you have less than eight data points per factor level, you might just aswell plot all the data points using `stripchart(Sepal_length ~ Elevation, data = morph, vertical = TRUE)`."
      ]
    },
    {
      "cell_type": "code",
      "metadata": {
        "id": "WSQQvQpBDtai",
        "colab_type": "code",
        "colab": {
          "base_uri": "https://localhost:8080/",
          "height": 437
        },
        "outputId": "88a94bd9-2182-4435-a761-9d33ee5de4ed"
      },
      "source": [
        "# base\n",
        "boxplot(Sepal_length ~ Elevation, data = morph, ylim = c(8,20))\n",
        "\n",
        "# understand interquartile range (iqr): range from 25% to 75% quantiles, contains 50% of the data\n",
        "iqr1 <- quantile(morph$Sepal_length[morph$Elevation==\"high\"], c(0.25,0.75))\n",
        "iqr2 <- quantile(morph$Sepal_length[morph$Elevation==\"low\"], c(0.25,0.75))\n",
        "\n",
        "# whiskers extend to the most extreme data point not exceeding 1.5*iqr from the box (by default)\n",
        "whisker1 <- iqr1 + c(-1.5,1.5)*diff(iqr1)\n",
        "whisker2 <- iqr2 + c(-1.5,1.5)*diff(iqr2)\n",
        "\n",
        "#segments(0.5, whisker1, 1.5, whisker1, col = \"tomato\")\n",
        "#segments(1.5, whisker2, 2.5, whisker2, col = \"blue\")"
      ],
      "execution_count": 9,
      "outputs": [
        {
          "output_type": "display_data",
          "data": {
            "image/png": "[encoded data removed]",
            "text/plain": [
              "plot without title"
            ]
          },
          "metadata": {
            "tags": [],
            "image/png": {
              "width": 420,
              "height": 420
            },
            "text/plain": {
              "width": 420,
              "height": 420
            }
          }
        }
      ]
    },
    {
      "cell_type": "code",
      "metadata": {
        "id": "bA8ZBSWBD26I",
        "colab_type": "code",
        "colab": {}
      },
      "source": [
        "# ggplot2\n",
        "ggplot(data = morph, aes(x = Elevation, y = Sepal_length)) + geom_boxplot()"
      ],
      "execution_count": 0,
      "outputs": []
    },
    {
      "cell_type": "markdown",
      "metadata": {
        "id": "KacbjSFqHP23",
        "colab_type": "text"
      },
      "source": [
        "Use **Histograms** to plot a variable's distribution. The `breaks` argument in `hist` and the `bins` argument in `geom_histogram` can be used to fine-tune the binning of values into histogram categories. Try and play around with it."
      ]
    },
    {
      "cell_type": "code",
      "metadata": {
        "id": "KmXzuh5IH0qk",
        "colab_type": "code",
        "colab": {
          "base_uri": "https://localhost:8080/",
          "height": 437
        },
        "outputId": "96cefa26-86e6-43d9-9906-c40918502d09"
      },
      "source": [
        "hist(morph$Sepal_length, breaks = 20)"
      ],
      "execution_count": 10,
      "outputs": [
        {
          "output_type": "display_data",
          "data": {
            "image/png": "[encoded data removed]",
            "text/plain": [
              "Plot with title “Histogram of morph$Sepal_length”"
            ]
          },
          "metadata": {
            "tags": [],
            "image/png": {
              "width": 420,
              "height": 420
            },
            "text/plain": {
              "width": 420,
              "height": 420
            }
          }
        }
      ]
    },
    {
      "cell_type": "code",
      "metadata": {
        "id": "HUipUhQqH79a",
        "colab_type": "code",
        "colab": {
          "base_uri": "https://localhost:8080/",
          "height": 95
        },
        "outputId": "d8a11ffe-1f2a-410b-af0f-1bd3c3d65cf4"
      },
      "source": [
        "ggplot(data = morph, aes(x = Sepal_length)) + geom_histogram(bins = 20) "
      ],
      "execution_count": 11,
      "outputs": [
        {
          "output_type": "error",
          "ename": "ERROR",
          "evalue": "ignored",
          "traceback": [
            "Error in ggplot(data = morph, aes(x = Sepal_length)): could not find function \"ggplot\"\nTraceback:\n"
          ]
        }
      ]
    },
    {
      "cell_type": "markdown",
      "metadata": {
        "id": "iCGAbF74HtBt",
        "colab_type": "text"
      },
      "source": [
        "Use **Barplots** to plot all values of a single variable or a table of counts."
      ]
    },
    {
      "cell_type": "code",
      "metadata": {
        "id": "sZUC4O_IHQ-e",
        "colab_type": "code",
        "colab": {
          "base_uri": "https://localhost:8080/",
          "height": 437
        },
        "outputId": "ce7ef127-c878-4250-e285-ed75563831bc"
      },
      "source": [
        "# base\n",
        "barplot(table(morph$Population))"
      ],
      "execution_count": 12,
      "outputs": [
        {
          "output_type": "display_data",
          "data": {
            "image/png": "[encoded data removed]",
            "text/plain": [
              "plot without title"
            ]
          },
          "metadata": {
            "tags": [],
            "image/png": {
              "width": 420,
              "height": 420
            },
            "text/plain": {
              "width": 420,
              "height": 420
            }
          }
        }
      ]
    },
    {
      "cell_type": "code",
      "metadata": {
        "id": "odALebdKHdnu",
        "colab_type": "code",
        "colab": {}
      },
      "source": [
        "# ggplot2 (uses count table by default!)\n",
        "ggplot(data = morph, aes(x = Population)) + geom_bar(stat = \"count\")"
      ],
      "execution_count": 0,
      "outputs": []
    },
    {
      "cell_type": "markdown",
      "metadata": {
        "id": "cC7XnRTvIIhv",
        "colab_type": "text"
      },
      "source": [
        "Use **Mosaic Plots** or **Stacked Barplots** to plot *contingency tables* of two categorical variables against each other. In a Mosaic Plot, the relative size of each mosaic is proportional to the number of observations with a given factor level combination. The stacked barplot is slightly different, once shown as stacked *counts* and once as stacked *proportions*."
      ]
    },
    {
      "cell_type": "code",
      "metadata": {
        "id": "K252kD91IJRW",
        "colab_type": "code",
        "colab": {}
      },
      "source": [
        "# base\n",
        "mosaicplot(table(morph$Elevation,morph$Infection), main = \"Mosaic Plot\")"
      ],
      "execution_count": 0,
      "outputs": []
    },
    {
      "cell_type": "code",
      "metadata": {
        "id": "DK54oZskIL5W",
        "colab_type": "code",
        "colab": {}
      },
      "source": [
        "# ggplot2 (fill variable determines the stacking)\n",
        "ggplot(morph, aes(x = Elevation, fill = Infection)) + \n",
        "  geom_bar() + \n",
        "  ggtitle(\"Stacked Barplot\")\n",
        "  \n",
        "ggplot(morph, aes(x = Elevation, fill = Infection)) + \n",
        "  geom_bar(position = \"fill\") + labs(y = \"Proportion\") +\n",
        "  ggtitle(\"Stacked Barplot\")"
      ],
      "execution_count": 0,
      "outputs": []
    },
    {
      "cell_type": "markdown",
      "metadata": {
        "id": "QjTx6lDvLSGY",
        "colab_type": "text"
      },
      "source": [
        "![Question](https://img.icons8.com/flat_round/64/000000/question-mark.png)\n",
        "- Can you produce a plot of `Petal_length ~ Sepal_length` with points color-coded for `Infection` and size proportional to `Petal_length`?\n"
      ]
    },
    {
      "cell_type": "code",
      "metadata": {
        "id": "VibMsUDaXb7m",
        "colab_type": "code",
        "colab": {}
      },
      "source": [
        "# Make your plot here"
      ],
      "execution_count": 0,
      "outputs": []
    },
    {
      "cell_type": "markdown",
      "metadata": {
        "id": "ydeBpTwdIWfk",
        "colab_type": "text"
      },
      "source": [
        "***\n",
        "### 3.2 Generate all pairwise plots\n",
        "#### Use regular expressions\n",
        "Given that we have 17 variables, plotting all of them against each other by hand would be tedious. For datasets with a moderate number of variables, you can use the `ggpairs` function from the [*GGally*](https://cran.r-project.org/web/packages/GGally/index.html) package to get a graphical overview over many variables at once with a single line of code. The function produces all possible pairwise plots, minimizes redundancy and takes care of factors and numerical variables automatically.\n",
        "\n",
        "With 17 variables, plotting all against all would lead to too many (289) plots on a single page. Let us therefore subset the variables. You can use `grep` and [**regular expressions**](https://regex101.com/) to find the indices of certain variable names, this often saves code."
      ]
    },
    {
      "cell_type": "code",
      "metadata": {
        "id": "9bLAptJ2J-dM",
        "colab_type": "code",
        "colab": {}
      },
      "source": [
        "# this returns the index of variable names *starting* with 'Flower' (^ specifies the *start*)\n",
        "grep(pattern = \"^Flower_\", x = names(morph))"
      ],
      "execution_count": 0,
      "outputs": []
    },
    {
      "cell_type": "code",
      "metadata": {
        "id": "10NHUc4_KBAs",
        "colab_type": "code",
        "colab": {}
      },
      "source": [
        "# this returns the index of variable names *ending* with either 'length' or 'width' ($ specifies the *end*, | is a logial <or>)\n",
        "grep(pattern = \"length$|width$\", x = names(morph)) \n"
      ],
      "execution_count": 0,
      "outputs": []
    },
    {
      "cell_type": "markdown",
      "metadata": {
        "id": "A4zfZ7GOgKyA",
        "colab_type": "text"
      },
      "source": [
        "![Question](https://img.icons8.com/flat_round/64/000000/question-mark.png)\n",
        "- Can you identify the indices of columns with variables of *fertile* structures (buds, flowers) using a regular expression?"
      ]
    },
    {
      "cell_type": "code",
      "metadata": {
        "id": "MVsEmbd4gklv",
        "colab_type": "code",
        "colab": {}
      },
      "source": [
        "# Create your regular expression here\n",
        "names(morph)\n",
        "grep(pattern = \"XXX\", x = names(morph))"
      ],
      "execution_count": 0,
      "outputs": []
    },
    {
      "cell_type": "markdown",
      "metadata": {
        "id": "UulnF241hCdn",
        "colab_type": "text"
      },
      "source": [
        "#### print all pairwise plots"
      ]
    },
    {
      "cell_type": "code",
      "metadata": {
        "id": "UisrQsj_KHP2",
        "colab_type": "code",
        "colab": {}
      },
      "source": [
        "print(vars.fertile <- names(morph)[grep(pattern = \"^Flower|^Bud|^Petal|^Sepal\", x = names(morph))])\n",
        "print(vars.sterile <- names(morph)[grep(pattern = \"^Stalk|^Rosette\", x = names(morph))])"
      ],
      "execution_count": 0,
      "outputs": []
    },
    {
      "cell_type": "markdown",
      "metadata": {
        "id": "uYt4oOl7KPDa",
        "colab_type": "text"
      },
      "source": [
        "The `ggpairs` function prepares the pairwise plots as `gg` class objects. These can then be printed to the plotting device, or saved to a PDF file by enclosing the print commands between the `pdf` and `graphics.off` functions.\n",
        "\n",
        "It is more reproducible (and therefore more scientific) to save plots with such code rather than by manually exporting a plot from R Studio. The specified `height` and `width` also prevents the saved plot to be smaller or larger depending on your device size."
      ]
    },
    {
      "cell_type": "code",
      "metadata": {
        "id": "oBic2sG3KNG_",
        "colab_type": "code",
        "colab": {}
      },
      "source": [
        "pairs.fertile <- ggpairs(data = morph, columns = c(\"Population\",\"Elevation\",\"Infection\",\"Sex\", vars.fertile))\n",
        "pairs.sterile <- ggpairs(data = morph, columns = c(\"Population\",\"Elevation\",\"Infection\",\"Sex\", vars.sterile))"
      ],
      "execution_count": 0,
      "outputs": []
    },
    {
      "cell_type": "code",
      "metadata": {
        "id": "_CV-vm_cKXGh",
        "colab_type": "code",
        "colab": {}
      },
      "source": [
        "#pdf(\"Pairsplots.pdf\", height = 15, width = 15)\n",
        "#pairs.sterile # or print(pairs.sterile)\n",
        "pairs.fertile # or print(pairs.fertile)\n",
        "#graphics.off()"
      ],
      "execution_count": 0,
      "outputs": []
    },
    {
      "cell_type": "markdown",
      "metadata": {
        "id": "NxRBftCPfY5n",
        "colab_type": "text"
      },
      "source": [
        "Does everything look all right?\n",
        "\n",
        "\n"
      ]
    },
    {
      "cell_type": "markdown",
      "metadata": {
        "id": "kCpydd-Cf2bk",
        "colab_type": "text"
      },
      "source": [
        "***\n",
        "### 3.3 Handle obvious data errors\n",
        "If there are obvious data errors, you could of course just fix the original data table. But such a fixes are *not transparent*, and usually *not documented* anywhere.\n",
        "\n",
        "You can be more **transparent** by handling (replacing, deleting) obvious data errors in the analysis script. This makes such data changes **documented** and **reproducible**. \n",
        "\n",
        "If you can reconstruct the correct value (e.g. because it is just a comma error), do so in the script. If you cannot reconstruct what happened with an impossible data value, you should set it to `NA` or remove the entire data row in the analysis script. Make sure to fix errors before the final analyses are carried out."
      ]
    },
    {
      "cell_type": "code",
      "metadata": {
        "id": "OW5vD0FGfr08",
        "colab_type": "code",
        "colab": {
          "base_uri": "https://localhost:8080/",
          "height": 17
        },
        "outputId": "eb357615-1d1d-42ed-fa12-8bda5c653934"
      },
      "source": [
        "# get index\n",
        "morph$Flower_diam[morph$Flower_diam > 100] # Dianthus with 185 mm flower diameter is impossible\n",
        "\n",
        "# correct an obvious comma error\n",
        "morph$Flower_diam[morph$Flower_diam > 100] <- morph$Flower_diam[morph$Flower_diam > 100]/10\n",
        "\n",
        "# set an impossible data value to NA\n",
        "# morph$Flower_diamesser[morph$Flower_diamesser > 100] <- NA"
      ],
      "execution_count": 32,
      "outputs": [
        {
          "output_type": "display_data",
          "data": {
            "text/plain": [
              "numeric(0)"
            ],
            "text/latex": "",
            "text/markdown": "",
            "text/html": [
              ""
            ]
          },
          "metadata": {
            "tags": []
          }
        }
      ]
    },
    {
      "cell_type": "markdown",
      "metadata": {
        "id": "QHahzxpoLipu",
        "colab_type": "text"
      },
      "source": [
        "***\n",
        "\n",
        "### 3.4 Check the probability distribution\n",
        "Knowing which [probability distribution](https://en.wikipedia.org/wiki/Probability_distribution) best represents your variables is important because [statistical models](https://en.wikipedia.org/wiki/Statistical_model) such linear models make certain **assumptions** on the probability distribution of the response variable or the model residuals (see Chapter 4). You have already seen that the **histogram** is a good visualization of a variable's probability distribution, and deviations from a normal distribution become intuitively apparent.\n",
        "\n",
        "The first thing to bear in mind is that there are **continuous** probability distributions (for continuous variables) and **discrete** probability distributions (for counts).\n",
        "\n",
        "Let us look at `Stalk_count`, which is a non-negative [count](https://en.wikipedia.org/wiki/Count_data) variable and therefore by definition bound by zero on the left, and unbounded on the right. Non-negative counts are usually assumed to follow a [**Poisson distribution**](https://en.wikipedia.org/wiki/Poisson_distribution), but not all count data can be well represented by a Poisson distribution. In some cases, a variable [transformation](https://en.wikipedia.org/wiki/Data_transformation_(statistics)) (often the square-root) might help to represent the counts as a continuous variable to fit an appropriate model (see Chapter 4.7), but the model parameters will be difficult to interpret.\n",
        "\n",
        "More often, [non-parametric](https://en.wikipedia.org/wiki/Nonparametric_statistics) tests are used, such as the [Kruskal-Wallis-test](https://en.wikipedia.org/wiki/Kruskal%E2%80%93Wallis_one-way_analysis_of_variance) which does not assume that the variable (or residuals) follows a Poisson or Normal distribution.\n",
        "\n",
        "If you want to get to know your variables, you can try to represent any variable with a statistical distribution using **simulations**, and compare your data against data from a specific statistical distribution, parametrized to match your data as closely as possible. The `R` package [*EnvStats*](https://cran.r-project.org/web/packages/EnvStats/index.html) allows for simulation of different probability distributions from your data, and comparison of these against your data in so-called **Q-Q Plots** (Quantile-Quantile plots) using the `qqPlot` function.\n",
        "\n",
        "Let us now look at a discrete variable (`Stalk_count`) and a continuous variable (`Flower_diam`) for comparison, and simulate some probability distributions."
      ]
    },
    {
      "cell_type": "code",
      "metadata": {
        "id": "2JxxPVk-L4yr",
        "colab_type": "code",
        "colab": {
          "base_uri": "https://localhost:8080/",
          "height": 541
        },
        "outputId": "bd5653b8-7203-4539-d982-5436e21deaf7"
      },
      "source": [
        "# see this help page for a comprehensive list of continuous and discrete distributions\n",
        "# ?EnvStats::Distribution.df\n",
        "\n",
        "# mean and variance\n",
        "cat(\"\\nStalk_count mean:\\n\")\n",
        "print(mean(morph$Stalk_count))\n",
        "\n",
        "cat(\"\\nStalk_count variance:\\n\")\n",
        "print(var(morph$Stalk_count))\n",
        "\n",
        "# simulate and compare\n",
        "par(mfrow=c(2,3))\n",
        "hist(morph$Stalk_count, breaks = 20, col = \"tomato\")\n",
        "\n",
        "# simulate Poisson distribution for counts\n",
        "qqPlot(morph$Stalk_count, distribution = \"pois\", estimate.params = TRUE, add.line = TRUE, points.col = \"tomato\", main = \"Poisson Q-Q Plot\")\n",
        "\n",
        "# simulate Exponential distribution on square-root-transformed counts\n",
        "qqPlot(sqrt(morph$Stalk_count), distribution = \"exp\", estimate.params = TRUE, add.line = TRUE, points.col = \"tomato\", main = \"Exponential Q-Q Plot\")\n",
        "\n",
        "hist(morph$Flower_diam, breaks = 20, col = \"cadetblue\")\n",
        "\n",
        "# simulate normal distribution for continuous variables\n",
        "qqPlot(morph$Flower_diam, distribution = \"norm\", estimate.params = TRUE, add.line = TRUE, points.col = \"cadetblue\", main = \"Normal Q-Q Plot\")\n",
        "\n",
        "# simulate normal distribution for log-transformed variable (so-called log-normal distribution)\n",
        "qqPlot(log(morph$Flower_diam), distribution = \"norm\", estimate.params = TRUE, add.line = TRUE, points.col = \"cadetblue\", main = \"Normal Q-Q Plot\")\n",
        "\n",
        "par(mfrow=c(1,1))"
      ],
      "execution_count": 47,
      "outputs": [
        {
          "output_type": "stream",
          "text": [
            "\n",
            "Stalk_count mean:\n",
            "[1] 5.504065\n",
            "\n",
            "Stalk_count variance:\n",
            "[1] 26.26843\n"
          ],
          "name": "stdout"
        },
        {
          "output_type": "display_data",
          "data": {
            "image/png": "[encoded data removed]",
            "text/plain": [
              "Plot with title “Normal Q-Q Plot”"
            ]
          },
          "metadata": {
            "tags": [],
            "image/png": {
              "width": 420,
              "height": 420
            },
            "text/plain": {
              "width": 420,
              "height": 420
            }
          }
        }
      ]
    },
    {
      "cell_type": "markdown",
      "metadata": {
        "id": "m86uxMpWt2RB",
        "colab_type": "text"
      },
      "source": [
        "As with any Q-Q plot, a variable can be represented by a given distribution if the sample [quantiles](https://en.wikipedia.org/wiki/Quantile) (the variable's values) follow the theoretical quantiles (simulated from a given probability distribution). "
      ]
    },
    {
      "cell_type": "markdown",
      "metadata": {
        "id": "IxLLE2gZMzpb",
        "colab_type": "text"
      },
      "source": [
        "![Question](https://img.icons8.com/flat_round/64/000000/question-mark.png)\n",
        "- Which method would you use to test for differences in `Stalk_count`? \n",
        "- Which method would you use to test for differences in `Flower_diam`? "
      ]
    },
    {
      "cell_type": "markdown",
      "metadata": {
        "id": "im5uQTETmzzB",
        "colab_type": "text"
      },
      "source": [
        "***\n",
        "\n",
        "## 4. Analysis of Variance and Linear Models"
      ]
    },
    {
      "cell_type": "markdown",
      "metadata": {
        "id": "0tXW7CCuCKzT",
        "colab_type": "text"
      },
      "source": [
        "### 4.1 The relationship between t-test, ANOVA and linear models\n",
        "\n",
        "**Analysis of Variance (ANOVA)** using `aov` and (generalized) **linear models** using `lm`or `glm` are closely related to each other and differ mainly in *intent* of analysis and default *presentation* of results. If you read the `aov` help page, you will see that `aov` actually calls `lm`, so both rely on the same [least squares](https://en.wikipedia.org/wiki/Least_squares) method.\n",
        "\n",
        "\n",
        "You can think of ANOVA and linear models as extensions of a two-sample [**t-test**](https://en.wikipedia.org/wiki/Student%27s_t-test) that allow for tests of more than one factors at once. Remember that the two-sample t-test allows to test the difference in a dependent variable (a.k.a. **response** variable, dependent variable, output variable, measure variable, Y variable) between two levels of one factor (a.k.a. **predictor** variable, independent variable, input variable, X variable). An example two-sample t-test is the test for difference in human height (the dependent variable) between two sexes (the predictor variable). "
      ]
    },
    {
      "cell_type": "markdown",
      "metadata": {
        "id": "Vb5oHxYDm4nW",
        "colab_type": "text"
      },
      "source": [
        "Let us start with a **one-sample t-test**:"
      ]
    },
    {
      "cell_type": "code",
      "metadata": {
        "id": "tRusYfHPnAzG",
        "colab_type": "code",
        "colab": {}
      },
      "source": [
        "t.test(morph$Sepal_length, mu = 0)"
      ],
      "execution_count": 0,
      "outputs": []
    },
    {
      "cell_type": "markdown",
      "metadata": {
        "id": "lDEOIZMWnJsk",
        "colab_type": "text"
      },
      "source": [
        "![Question](https://img.icons8.com/flat_round/64/000000/question-mark.png)\n",
        "- What are the null and alternative hypotheses? \n",
        "- What is the test result?"
      ]
    },
    {
      "cell_type": "markdown",
      "metadata": {
        "id": "Azjxj5wfndAa",
        "colab_type": "text"
      },
      "source": [
        "This test can also be accomplished using `lm` by just fitting the intercept. \n",
        "\n",
        "**Note** that you can assign a function output (e.g. output of `lm`) to an `R` object (e.g. object `lm0`) and directly call another function (e.g. `summary`):"
      ]
    },
    {
      "cell_type": "code",
      "metadata": {
        "id": "HjuwN66znlnA",
        "colab_type": "code",
        "colab": {
          "base_uri": "https://localhost:8080/",
          "height": 278
        },
        "outputId": "2752cea9-602a-4052-9535-e80c5102ab7c"
      },
      "source": [
        "# lm0 <- lm(Sepal_length ~ 1, data = morph)\n",
        "# summary(lm0)\n",
        "summary(lm0 <- lm(Sepal_length ~ 1, data = morph))"
      ],
      "execution_count": 52,
      "outputs": [
        {
          "output_type": "display_data",
          "data": {
            "text/plain": [
              "\n",
              "Call:\n",
              "lm(formula = Sepal_length ~ 1, data = morph)\n",
              "\n",
              "Residuals:\n",
              "    Min      1Q  Median      3Q     Max \n",
              "-5.9854 -1.3354 -0.0854  1.1646  4.6146 \n",
              "\n",
              "Coefficients:\n",
              "            Estimate Std. Error t value Pr(>|t|)    \n",
              "(Intercept)  14.2854     0.1846   77.37   <2e-16 ***\n",
              "---\n",
              "Signif. codes:  0 ‘***’ 0.001 ‘**’ 0.01 ‘*’ 0.05 ‘.’ 0.1 ‘ ’ 1\n",
              "\n",
              "Residual standard error: 2.048 on 122 degrees of freedom\n"
            ]
          },
          "metadata": {
            "tags": []
          }
        }
      ]
    },
    {
      "cell_type": "markdown",
      "metadata": {
        "id": "VzXgeqrtwDTD",
        "colab_type": "text"
      },
      "source": [
        "In such a model, the estimate for the intercept will just be the mean."
      ]
    },
    {
      "cell_type": "code",
      "metadata": {
        "id": "yyM-NqnXwH8l",
        "colab_type": "code",
        "colab": {
          "base_uri": "https://localhost:8080/",
          "height": 34
        },
        "outputId": "67b4baa5-809f-4ecb-ac65-bac6068de2e1"
      },
      "source": [
        "print(mean(morph$Sepal_length))"
      ],
      "execution_count": 51,
      "outputs": [
        {
          "output_type": "stream",
          "text": [
            "[1] 14.28537\n"
          ],
          "name": "stdout"
        }
      ]
    },
    {
      "cell_type": "markdown",
      "metadata": {
        "id": "ntyd5ap-wVhi",
        "colab_type": "text"
      },
      "source": [
        "The residuals of this 'model' look like this. The fitted values are just the mean, and the residuals are just the centered data (mean subtracted from each value)."
      ]
    },
    {
      "cell_type": "code",
      "metadata": {
        "id": "4C22yhbvxbv2",
        "colab_type": "code",
        "colab": {
          "base_uri": "https://localhost:8080/",
          "height": 611
        },
        "outputId": "1c1c54ad-e7a9-4658-f77d-ed6885d82242"
      },
      "source": [
        "cat(\"residuals:\\n\")\n",
        "print(head(unname(lm0$residuals), 10))\n",
        "\n",
        "cat(\"\\ncentered data:\\n\")\n",
        "print(head(morph$Sepal_length - mean(morph$Sepal_length), 10))\n",
        "\n",
        "par(mfrow = c(2,2))\n",
        "plot(lm0)\n",
        "par(mfrow = c(2,2))"
      ],
      "execution_count": 57,
      "outputs": [
        {
          "output_type": "stream",
          "text": [
            "residuals:\n",
            " [1] -1.3853659 -1.6853659 -2.3853659 -1.0853659 -0.1853659  0.2146341\n",
            " [7]  4.3146341  1.0146341  0.2146341 -1.3853659\n",
            "\n",
            "centered data:\n",
            " [1] -1.3853659 -1.6853659 -2.3853659 -1.0853659 -0.1853659  0.2146341\n",
            " [7]  4.3146341  1.0146341  0.2146341 -1.3853659\n"
          ],
          "name": "stdout"
        },
        {
          "output_type": "stream",
          "text": [
            "hat values (leverages) are all = 0.008130081\n",
            " and there are no factor predictors; no plot no. 5\n",
            "\n"
          ],
          "name": "stderr"
        },
        {
          "output_type": "display_data",
          "data": {
            "image/png": "[encoded data removed]",
            "text/plain": [
              "Plot with title “”"
            ]
          },
          "metadata": {
            "tags": [],
            "image/png": {
              "width": 420,
              "height": 420
            },
            "text/plain": {
              "width": 420,
              "height": 420
            }
          }
        }
      ]
    },
    {
      "cell_type": "markdown",
      "metadata": {
        "id": "Jc6rhltUxjT-",
        "colab_type": "text"
      },
      "source": [
        "This hopefully makes us recall an important assumption of the `t.test`: a t-test assumes **normally** distributed data, as a linear model assumes normally distributed residuals."
      ]
    },
    {
      "cell_type": "markdown",
      "metadata": {
        "id": "4y3a2VMgnoZx",
        "colab_type": "text"
      },
      "source": [
        "Let us now extend this to a **two-sample t-test** (one sample at low and one at high elevation).\n",
        "\n",
        "**Note** the formula syntax (dependent variable ~ predictor), it is more elegant and saves code."
      ]
    },
    {
      "cell_type": "code",
      "metadata": {
        "id": "AG_DHh2Knqkg",
        "colab_type": "code",
        "colab": {
          "base_uri": "https://localhost:8080/",
          "height": 208
        },
        "outputId": "b1354ed8-3250-4a09-e65b-43cffdad6acf"
      },
      "source": [
        "# complicated syntax, showing the two samples (sepal lengths at high and low elevation)\n",
        "# t.test(morph$Sepal_length[morph$Elevation == \"high\"], morph$Sepal_length[morph$Elevation == \"low\"], data = morph, mu = 0)\n",
        "\n",
        "# shorter and more elegant formula syntax \n",
        "t.test(Sepal_length ~ Elevation, data = morph, mu = 0)"
      ],
      "execution_count": 59,
      "outputs": [
        {
          "output_type": "display_data",
          "data": {
            "text/plain": [
              "\n",
              "\tWelch Two Sample t-test\n",
              "\n",
              "data:  Sepal_length by Elevation\n",
              "t = -2.8931, df = 119.46, p-value = 0.004535\n",
              "alternative hypothesis: true difference in means is not equal to 0\n",
              "95 percent confidence interval:\n",
              " -1.7502608 -0.3279355\n",
              "sample estimates:\n",
              "mean in group high  mean in group low \n",
              "          13.79538           14.83448 \n"
            ]
          },
          "metadata": {
            "tags": []
          }
        }
      ]
    },
    {
      "cell_type": "markdown",
      "metadata": {
        "id": "92xQF2GSmt2w",
        "colab_type": "text"
      },
      "source": [
        "Again, the same test can be accomplished using `lm` or `aov`. A `summary` on `aov` will give you the **ANOVA table**, while `lm` will give you **effect size** estimates, but the test result is exactly the same as the two-sample t-test. This hopefully shows the relationship between t-test, ANOVA and linear models, and makes ANOVA or linear models sound a bit less scary."
      ]
    },
    {
      "cell_type": "code",
      "metadata": {
        "id": "ZTIj3zosoDv8",
        "colab_type": "code",
        "colab": {
          "base_uri": "https://localhost:8080/",
          "height": 486
        },
        "outputId": "b7c99bb0-c04e-4686-c7dc-75ad736afa82"
      },
      "source": [
        "cat(\"**ANOVA table**\\n\")\n",
        "summary(aov(Sepal_length ~ Elevation, data = morph))\n",
        "\n",
        "cat(\"\\n\\n**Effect size estimates**\\n\")\n",
        "summary(lm(Sepal_length ~ Elevation, data = morph))"
      ],
      "execution_count": 58,
      "outputs": [
        {
          "output_type": "stream",
          "text": [
            "**ANOVA table**\n"
          ],
          "name": "stdout"
        },
        {
          "output_type": "display_data",
          "data": {
            "text/plain": [
              "             Df Sum Sq Mean Sq F value  Pr(>F)   \n",
              "Elevation     1   33.1   33.09   8.369 0.00453 **\n",
              "Residuals   121  478.5    3.95                   \n",
              "---\n",
              "Signif. codes:  0 ‘***’ 0.001 ‘**’ 0.01 ‘*’ 0.05 ‘.’ 0.1 ‘ ’ 1"
            ]
          },
          "metadata": {
            "tags": []
          }
        },
        {
          "output_type": "stream",
          "text": [
            "\n",
            "\n",
            "**Effect size estimates**\n"
          ],
          "name": "stdout"
        },
        {
          "output_type": "display_data",
          "data": {
            "text/plain": [
              "\n",
              "Call:\n",
              "lm(formula = Sepal_length ~ Elevation, data = morph)\n",
              "\n",
              "Residuals:\n",
              "    Min      1Q  Median      3Q     Max \n",
              "-5.4954 -1.2954  0.0655  0.9655  5.1046 \n",
              "\n",
              "Coefficients:\n",
              "             Estimate Std. Error t value Pr(>|t|)    \n",
              "(Intercept)   13.7954     0.2467  55.930  < 2e-16 ***\n",
              "Elevationlow   1.0391     0.3592   2.893  0.00453 ** \n",
              "---\n",
              "Signif. codes:  0 ‘***’ 0.001 ‘**’ 0.01 ‘*’ 0.05 ‘.’ 0.1 ‘ ’ 1\n",
              "\n",
              "Residual standard error: 1.989 on 121 degrees of freedom\n",
              "Multiple R-squared:  0.06469,\tAdjusted R-squared:  0.05696 \n",
              "F-statistic: 8.369 on 1 and 121 DF,  p-value: 0.004529\n"
            ]
          },
          "metadata": {
            "tags": []
          }
        }
      ]
    },
    {
      "cell_type": "markdown",
      "metadata": {
        "id": "snB7wzYmoIGT",
        "colab_type": "text"
      },
      "source": [
        "![Question](https://img.icons8.com/flat_round/64/000000/question-mark.png)\n",
        "- What are the null and alternative hypotheses? \n",
        "- What is the estimated effect size of `Elevation` on `Sepal_length`?\n",
        "- How do you interpret the `Elevation` effect estimate intuitively?\n"
      ]
    },
    {
      "cell_type": "markdown",
      "metadata": {
        "id": "YOvVfw8OqGEB",
        "colab_type": "text"
      },
      "source": [
        "***\n",
        "\n",
        "### 4.2 One-way ANOVA and simple linear models\n",
        "\n",
        "The **one-way ANOVA** allows for comparing more then just two groups. Or in other words: a categorical predictor can have *more* than two levels.\n",
        "\n",
        "Tests with more than 2 levels in a predictor variable can have different intents:\n",
        "\n",
        "1. test for an *overall* effect of a factor such as `Population` on calyx length\n",
        "2. comparison of two or more *specific* factor levels, for instance a treatment relative to a *control*, including effect size estimates."
      ]
    },
    {
      "cell_type": "markdown",
      "metadata": {
        "id": "sEBKLgr3qYne",
        "colab_type": "text"
      },
      "source": [
        "If your hypothesis is \"`Population` has an effect on `Sepal_length`\", then your goal is 1. and you can use `aov`:"
      ]
    },
    {
      "cell_type": "code",
      "metadata": {
        "id": "Fi-RX1W6qZt-",
        "colab_type": "code",
        "colab": {
          "base_uri": "https://localhost:8080/",
          "height": 104
        },
        "outputId": "576e8760-7a3b-415d-e43e-f7f87f46146c"
      },
      "source": [
        "summary(aov1 <- aov(Sepal_length ~ Population, data = morph))"
      ],
      "execution_count": 62,
      "outputs": [
        {
          "output_type": "display_data",
          "data": {
            "text/plain": [
              "             Df Sum Sq Mean Sq F value Pr(>F)  \n",
              "Population    7   55.8   7.976   2.013 0.0593 .\n",
              "Residuals   115  455.8   3.963                 \n",
              "---\n",
              "Signif. codes:  0 ‘***’ 0.001 ‘**’ 0.01 ‘*’ 0.05 ‘.’ 0.1 ‘ ’ 1"
            ]
          },
          "metadata": {
            "tags": []
          }
        }
      ]
    },
    {
      "cell_type": "markdown",
      "metadata": {
        "id": "YkMEfbbQqgQV",
        "colab_type": "text"
      },
      "source": [
        "If your hypothesis is \"The `Sepal_length` is larger in `Population` 'Grengiols' compared to `Population` 'Faldumalp'\", then your goal is 2. and you can use `lm`.\n"
      ]
    },
    {
      "cell_type": "code",
      "metadata": {
        "id": "Xj2epHoCqgYs",
        "colab_type": "code",
        "colab": {
          "base_uri": "https://localhost:8080/",
          "height": 434
        },
        "outputId": "57021f09-92ec-464e-8a49-dc079e507093"
      },
      "source": [
        "summary(lm1 <- lm(Sepal_length ~ Population, data = morph))"
      ],
      "execution_count": 63,
      "outputs": [
        {
          "output_type": "display_data",
          "data": {
            "text/plain": [
              "\n",
              "Call:\n",
              "lm(formula = Sepal_length ~ Population, data = morph)\n",
              "\n",
              "Residuals:\n",
              "   Min     1Q Median     3Q    Max \n",
              "-5.900 -1.194  0.000  1.206  5.550 \n",
              "\n",
              "Coefficients:\n",
              "                       Estimate Std. Error t value Pr(>|t|)    \n",
              "(Intercept)             14.0000     0.5321  26.313   <2e-16 ***\n",
              "PopulationGibidumsee    -0.4187     0.7285  -0.575    0.567    \n",
              "PopulationGrengiols      1.8000     0.8243   2.184    0.031 *  \n",
              "PopulationNiedergampel   0.3938     0.7285   0.540    0.590    \n",
              "PopulationSimplon       -0.6500     0.7094  -0.916    0.361    \n",
              "PopulationUnterstalden   0.9188     0.7285   1.261    0.210    \n",
              "PopulationZeneggen       0.5875     0.7285   0.806    0.422    \n",
              "PopulationZermatt        0.3000     0.7185   0.418    0.677    \n",
              "---\n",
              "Signif. codes:  0 ‘***’ 0.001 ‘**’ 0.01 ‘*’ 0.05 ‘.’ 0.1 ‘ ’ 1\n",
              "\n",
              "Residual standard error: 1.991 on 115 degrees of freedom\n",
              "Multiple R-squared:  0.1091,\tAdjusted R-squared:  0.05491 \n",
              "F-statistic: 2.013 on 7 and 115 DF,  p-value: 0.0593\n"
            ]
          },
          "metadata": {
            "tags": []
          }
        }
      ]
    },
    {
      "cell_type": "markdown",
      "metadata": {
        "id": "OpEEhl1g3N2o",
        "colab_type": "text"
      },
      "source": [
        "**Note** that some kind of **reference** is used to compare more than two groups. By default, the comparison is made to the *first* level in the predictor. The default `Population` effect size estimates have to be interpreted *relative* to that first level.\n",
        "\n",
        "To make a different comparison, you can change the reference level using the `relevel` function, and run the test again. This is especially useful if you have a design with several *treatment* groups and a *control* group. In this case, your predictor would be a factor containing the assignment to treatments or control, and you could set the control level as the reference level to get a comparison to the control."
      ]
    },
    {
      "cell_type": "code",
      "metadata": {
        "id": "eVX7_JHf4ReO",
        "colab_type": "code",
        "colab": {
          "base_uri": "https://localhost:8080/",
          "height": 712
        },
        "outputId": "4db9b750-6b0a-4398-ac00-e584e064acb2"
      },
      "source": [
        "# set reference level\n",
        "morph$Population2 <- relevel(morph$Population, ref = \"Zermatt\")\n",
        "cat(\"default levels are in alphabetical order:\\n\")\n",
        "print(levels(morph$Population))\n",
        "cat(\"\\nreordered levels:\\n\")\n",
        "print(levels(morph$Population2)) # verify that \"Zermatt\" is now the first level\n",
        "\n",
        "# run test\n",
        "cat(\"\\nOverall Population effect:\\n\")\n",
        "summary(aov(Sepal_length ~ Population2, data = morph)) # same as before\n",
        "\n",
        "cat(\"\\n Specific population effects relative to Zermatt:\\n\")\n",
        "summary(lm(Sepal_length ~ Population2, data = morph)) # different comparisons"
      ],
      "execution_count": 73,
      "outputs": [
        {
          "output_type": "stream",
          "text": [
            "default levels are in alphabetical order:\n",
            "[1] \"Faldumalp\"    \"Gibidumsee\"   \"Grengiols\"    \"Niedergampel\" \"Simplon\"     \n",
            "[6] \"Unterstalden\" \"Zeneggen\"     \"Zermatt\"     \n",
            "\n",
            "reordered levels:\n",
            "[1] \"Zermatt\"      \"Faldumalp\"    \"Gibidumsee\"   \"Grengiols\"    \"Niedergampel\"\n",
            "[6] \"Simplon\"      \"Unterstalden\" \"Zeneggen\"    \n",
            "\n",
            "Overall Population effect:\n"
          ],
          "name": "stdout"
        },
        {
          "output_type": "display_data",
          "data": {
            "text/plain": [
              "             Df Sum Sq Mean Sq F value Pr(>F)  \n",
              "Population2   7   55.8   7.976   2.013 0.0593 .\n",
              "Residuals   115  455.8   3.963                 \n",
              "---\n",
              "Signif. codes:  0 ‘***’ 0.001 ‘**’ 0.01 ‘*’ 0.05 ‘.’ 0.1 ‘ ’ 1"
            ]
          },
          "metadata": {
            "tags": []
          }
        },
        {
          "output_type": "stream",
          "text": [
            "\n",
            " Specific population effects relative to Zermatt:\n"
          ],
          "name": "stdout"
        },
        {
          "output_type": "display_data",
          "data": {
            "text/plain": [
              "\n",
              "Call:\n",
              "lm(formula = Sepal_length ~ Population2, data = morph)\n",
              "\n",
              "Residuals:\n",
              "   Min     1Q Median     3Q    Max \n",
              "-5.900 -1.194  0.000  1.206  5.550 \n",
              "\n",
              "Coefficients:\n",
              "                        Estimate Std. Error t value Pr(>|t|)    \n",
              "(Intercept)             14.30000    0.48283  29.617   <2e-16 ***\n",
              "Population2Faldumalp    -0.30000    0.71848  -0.418   0.6771    \n",
              "Population2Gibidumsee   -0.71875    0.69341  -1.037   0.3021    \n",
              "Population2Grengiols     1.50000    0.79337   1.891   0.0612 .  \n",
              "Population2Niedergampel  0.09375    0.69341   0.135   0.8927    \n",
              "Population2Simplon      -0.95000    0.67328  -1.411   0.1609    \n",
              "Population2Unterstalden  0.61875    0.69341   0.892   0.3741    \n",
              "Population2Zeneggen      0.28750    0.69341   0.415   0.6792    \n",
              "---\n",
              "Signif. codes:  0 ‘***’ 0.001 ‘**’ 0.01 ‘*’ 0.05 ‘.’ 0.1 ‘ ’ 1\n",
              "\n",
              "Residual standard error: 1.991 on 115 degrees of freedom\n",
              "Multiple R-squared:  0.1091,\tAdjusted R-squared:  0.05491 \n",
              "F-statistic: 2.013 on 7 and 115 DF,  p-value: 0.0593\n"
            ]
          },
          "metadata": {
            "tags": []
          }
        }
      ]
    },
    {
      "cell_type": "markdown",
      "metadata": {
        "id": "PMJPSHIr7Hvs",
        "colab_type": "text"
      },
      "source": [
        "All of this has to do with the topic of **contrasts** (see Chapter 4.9). By default, `R` uses the `contr.treatment` function for comparison to a reference level. If desired, you can change this to the `contr.sum` function (sum to zero contrasts), in which case the comparisons are made against the *global mean* (mean `Sepal_length` over all `Populations`)."
      ]
    },
    {
      "cell_type": "code",
      "metadata": {
        "id": "Sdkey1tY7Zjn",
        "colab_type": "code",
        "colab": {
          "base_uri": "https://localhost:8080/",
          "height": 52
        },
        "outputId": "68f85af5-12f5-43ad-8351-ae6e219bc830"
      },
      "source": [
        "# check default contrast options\n",
        "print(options()$contrast)\n",
        "\n",
        "# set to \n",
        "options(contrasts = c(\"contrl\"))"
      ],
      "execution_count": 75,
      "outputs": [
        {
          "output_type": "stream",
          "text": [
            "        unordered           ordered \n",
            "\"contr.treatment\"      \"contr.poly\" \n"
          ],
          "name": "stdout"
        }
      ]
    },
    {
      "cell_type": "markdown",
      "metadata": {
        "id": "74lfbRiQ8_NT",
        "colab_type": "text"
      },
      "source": [
        "Irrespective of whether you fitted a model with `aov` or `lm`, you can use some handy accessor functions to **extract key model results**."
      ]
    },
    {
      "cell_type": "code",
      "metadata": {
        "id": "XVRoZQhq-Z4E",
        "colab_type": "code",
        "colab": {}
      },
      "source": [
        "## model parameter estimates in coef()\n",
        "print(coef(lm1))"
      ],
      "execution_count": 0,
      "outputs": []
    },
    {
      "cell_type": "code",
      "metadata": {
        "id": "OHJYDwkw9J4Z",
        "colab_type": "code",
        "colab": {}
      },
      "source": [
        "## confidence interval (by default 95%) for model parameter estimates in confint()\n",
        "print(confint(aov1,  level = 0.95))"
      ],
      "execution_count": 0,
      "outputs": []
    },
    {
      "cell_type": "code",
      "metadata": {
        "id": "kkUKh8H39U6K",
        "colab_type": "code",
        "colab": {}
      },
      "source": [
        "# Tukey-Anscombe plot (see paragraph on Residual Analysis)\n",
        "dfit <- data.frame(resid = resid(lm1), fitted = fitted(lm1))\n",
        "ggplot(dfit, aes(fitted, resid)) +\n",
        "  geom_point() +\n",
        "  geom_smooth(method = \"loess\", formula = y ~ x) +\n",
        "  theme_bw()\n",
        "\n",
        "# Observed values in black, fitted values in red\n",
        "ggplot(morph, aes(Population, Sepal_length)) + \n",
        "  geom_boxplot() + \n",
        "  geom_boxplot(aes(Population, fitted(lm1)), col = \"tomato\", linetype = 2) +\n",
        "  theme_bw()"
      ],
      "execution_count": 0,
      "outputs": []
    },
    {
      "cell_type": "markdown",
      "metadata": {
        "id": "4_UG9h5H-qLR",
        "colab_type": "text"
      },
      "source": [
        "![Question](https://img.icons8.com/flat_round/64/000000/question-mark.png)\n",
        "- Why are there only 7 estimates of population model parameters instead of 8?\n",
        "- Can you tell from the **confidence intervals** which population(s) are significantly different from the reference population?"
      ]
    },
    {
      "cell_type": "markdown",
      "metadata": {
        "id": "RwbbuLKk1eIM",
        "colab_type": "text"
      },
      "source": [
        "***\n",
        "\n",
        "### 4.3 Multi-way ANOVA and multiple linear regression\n",
        "There are many extensions to one-way ANOVA and simple linear models. In `R`, you can use the same functions `aov` and `lm` (or `glm`) and provide them with a more complex model. "
      ]
    },
    {
      "cell_type": "markdown",
      "metadata": {
        "id": "KixqbpOujY9L",
        "colab_type": "text"
      },
      "source": [
        "The **Factorial ANOVA** extends the one-way ANOVA to test >1 predictors (each with two or more levels), including interactions.\n",
        "\n",
        "The **mathematical model** for two predictors without interaction is as follows:\n",
        "* Y = β<sub>0</sub> + β<sub>1</sub>\\*X<sub>1</sub> + β<sub>2</sub>\\*X<sub>2</sub> + E ; E ~ norm(0, sd) i.i.d.\n",
        "\n",
        "Y, X<sub>1</sub>, and X<sub>2</sub> are given. The model fitting consists of estimating distributions for β<sub>0</sub>, β<sub>1</sub> and β<sub>2</sub>\n",
        "while minimizing the error term E (approximated by the so-called residuals).\n",
        "\n",
        "The corresponding **model formula** in `R` is as follows (no need to specify intercept and error term):\n",
        "\n",
        "* `Y ~ X1 + X2`\n",
        "\n",
        "Three preditors, the second nested in the first:\n",
        "* `Y ~ X1/X2 + X3`\n",
        "\n",
        "Three predictors, two of them interacting:\n",
        "* `Y ~ X1 + X2 + X1:X2 + X3`\n",
        "* `Y ~ (X1 + X2)^2 + X3`\n",
        "\n",
        "Three predictors, include all two-way interactions:\n",
        "* `Y ~ X1 + X2 + X1:X2 + X1:X3 + X2:X3`\n",
        "* `Y ~ (X1 + X2 + X3)^2`\n",
        "\n",
        "Three predictors, include all three-way interactions (rarely used):\n",
        "* `Y ~ (X1 + X2 + X3)^3`\n"
      ]
    },
    {
      "cell_type": "markdown",
      "metadata": {
        "id": "ZqLUgQ7SXbBp",
        "colab_type": "text"
      },
      "source": [
        "Beware of the use of highly **correlated predictor variables**. If such are present, the inference can be quite wrong when both are included in the model, as shown in the following example."
      ]
    },
    {
      "cell_type": "code",
      "metadata": {
        "id": "Bj27lAAbXsVI",
        "colab_type": "code",
        "colab": {}
      },
      "source": [
        "# simulate dataset with highly correlated x1 and x2 (both correlated with y)\n",
        "x1 <- rnorm(n = 500, mean = 0, sd = 1)\n",
        "x2 <- pi + pi*x1 + rnorm(n = 500, mean = 0, sd = 0.5)\n",
        "y  <- x2 + rnorm(n = 500, mean = 0, sd = 2)\n",
        "\n",
        "dsim <- data.frame(y = y, x1 = x1, x2 = x2)\n",
        "\n",
        "# correlation among x1 and x2\n",
        "cat(\"correlation between x1 and x2\\n\")\n",
        "print(cor(dsim$x1, dsim$x2))\n",
        "\n",
        "# model summaries\n",
        "cat(\"\\n\\n=>model with only x1 included\")\n",
        "summary(lm(y ~ x1, data = dsim))\n",
        "\n",
        "cat(\"\\n\\n=>nmodel with only x2 included\")\n",
        "summary(lm(y ~ x2, data = dsim))\n",
        "\n",
        "cat(\"\\n\\n=> model with x1 and x2 included (both highly correlated)\")\n",
        "summary(lm(y ~ x1 + x2, data = dsim))\n",
        "\n",
        "# graph\n",
        "ggplot(dsim, aes(x1, y, size = x2)) + geom_point() + theme_bw()"
      ],
      "execution_count": 0,
      "outputs": []
    },
    {
      "cell_type": "markdown",
      "metadata": {
        "id": "SxGaW1OnequB",
        "colab_type": "text"
      },
      "source": [
        "![Question](https://img.icons8.com/flat_round/64/000000/question-mark.png)\n",
        "- What can you do to prevent the above problem?"
      ]
    },
    {
      "cell_type": "markdown",
      "metadata": {
        "id": "IF3Byeb0v3LY",
        "colab_type": "text"
      },
      "source": [
        "***\n",
        "\n",
        "### 4.4 ANCOVA and GLMs\n",
        "\n",
        "The **ANCOVA** (Analysis of Covariance) allows for the mixed use of numerical and categorical predictors. **Generalized linear models** (GLMs) extend ANCOVA by allowing for non-normal error distribution (logistic regression, poisson regression, ...):\n",
        "\n",
        "Logistic regression\n",
        "* E ~ Binom(k|p,n) i.i.d\n",
        "\n",
        "Poisson regression\n",
        "* E ~ Poisson(lambda) i.i.d."
      ]
    },
    {
      "cell_type": "markdown",
      "metadata": {
        "id": "jJdONlwJ2ksx",
        "colab_type": "text"
      },
      "source": [
        "***\n",
        "### 4.5 Interactions\n",
        "Interactions between predictor (explanatory) variables can be present, and including them in a model can *greatly* improve the model fit and hence the reliability of test results.\n",
        "\n",
        "An **interaction** occurs if the effect of variable A on the response Y *depends* on variable B.\n",
        "\n",
        "Example:\n",
        "You want to model reaction time as Y ~ A + B\n",
        "\n",
        "* Y = time needed to start breaking after an obstacle appears on the street\n",
        "* A = amount of coffee drunk \n",
        "* B = amount of whisky drunk \n",
        "\n",
        "A has a negative effect on reaction time (i.e., more coffee, less reaction time), while B has a positive effect on reaction time (i.e, more whisky, more reaction time).\n",
        "\n",
        "You can increase coffee consumption to shorten reaction time, but this effect will depend on the amount of whisky drunk. That is, the amount of coffee *interacts* with the amount of whisky."
      ]
    },
    {
      "cell_type": "markdown",
      "metadata": {
        "id": "tlV_2xrz3O-C",
        "colab_type": "text"
      },
      "source": [
        "\n",
        "`R` implements some methods to visualize potential interactions. The idea is to visualize the mean (or other summary) value of the `response` Y at different levels of an explanatory variable of interest (`x.factor`), depending on the level of another and potentially interacting explanatory factor (`trace.factor`).\n",
        "\n",
        "![Question](https://img.icons8.com/flat_round/64/000000/question-mark.png)\n",
        "We now want to test the effect of `Infection` and `Altitude` on `Petal_length`. Before you fit any model, make sure to plot the data to get a better feeling for it."
      ]
    },
    {
      "cell_type": "code",
      "metadata": {
        "id": "cH9Kff6D3Ju1",
        "colab_type": "code",
        "colab": {}
      },
      "source": [
        "## Make a clever plot(s) that shows Petal_legnth, Infection and Altitude"
      ],
      "execution_count": 0,
      "outputs": []
    },
    {
      "cell_type": "markdown",
      "metadata": {
        "id": "oxHR7hdkwBKX",
        "colab_type": "text"
      },
      "source": [
        "`Petal_length` appears to be lower in some infected individuals, but that does not seem to be the case in low `Elevation` habitats. That is, the effect of `Infection` on `Petal_length` appears to *depend* on `Elevation`. Or in other words: `Infection` and `Elevation` likely *interact*.\n",
        "\n",
        "The following plot visualizes potential interactions. If the lines cross, the factors strongly interact and you would need to test for the interaction term in any model of `Petal_Length`."
      ]
    },
    {
      "cell_type": "code",
      "metadata": {
        "id": "Cw5f4fkm4p_P",
        "colab_type": "code",
        "colab": {}
      },
      "source": [
        "interaction.plot(x.factor = morph$Infection, trace.factor = morph$Elevation, response = morph$Petal_length, \n",
        "                 fun = mean, xlab = \"Infection\", ylab = \"Mean sepal length\")"
      ],
      "execution_count": 0,
      "outputs": []
    },
    {
      "cell_type": "markdown",
      "metadata": {
        "id": "rZi5RXgh50_S",
        "colab_type": "text"
      },
      "source": [
        "![Question](https://img.icons8.com/flat_round/64/000000/question-mark.png)\n",
        "We now want to formally test for the effect of `Infection` and `Elevation` (including their potential interaction) on `Petal_length`, and estimate the effect sizes.\n",
        "* which function do you use (`aov` or `lm`)?\n",
        "* which formula do you use?\n",
        "* what are the test results?"
      ]
    },
    {
      "cell_type": "code",
      "metadata": {
        "id": "rVmgKGrD6gJ7",
        "colab_type": "code",
        "colab": {}
      },
      "source": [
        "## Create your model here\n",
        "summary(mod1 <- lm(Petal_length ~ Infection * Elevation, data = morph))"
      ],
      "execution_count": 0,
      "outputs": []
    },
    {
      "cell_type": "markdown",
      "metadata": {
        "id": "0-X0N7S3v4LJ",
        "colab_type": "text"
      },
      "source": [
        "***\n",
        "\n",
        "### 4.6 Check model assumptions via Residual Analysis\n",
        "Up to now, we have just blindly executed `summary` on `aov` and `lm` fits and interpreted the test results. In practice, this is **not sufficient**.\n",
        "\n",
        "In order to validate the model, we need to check that the model assumptions are met, or at least not grossly violated.\n",
        "\n",
        "ANOVA and linear regression models both make the following main **assumptions**:\n",
        "  \n",
        "* [**Normality:**](https://en.wikipedia.org/wiki/Normal_distribution) For any fixed value of X, Y is *normally distributed*. This implies that the *residuals* are normally distributed. However, it does not mean that all variables have to be normally distributed (not even within groups).\n",
        "* [**Homoscedasticity:**](https://en.wikipedia.org/wiki/Homoscedasticity) The *residual variance* is *constant* (the same for any value of X)\n",
        "* [**Independence:**](https://en.wikipedia.org/wiki/Independence_(probability_theory)) Observations are *independent* of each other (i.e. one measurement is not influenced by another)\n",
        "\n",
        "If one or more of these assumptions (see this [link](http://r-statistics.co/Assumptions-of-Linear-Regression.html) for more details) are **violated**, you **cannot have trust in your test results** and in any conclusions drawn from them."
      ]
    },
    {
      "cell_type": "markdown",
      "metadata": {
        "id": "Ec28gVm-88sL",
        "colab_type": "text"
      },
      "source": [
        "You can check most assumptions by applying the generic `plot` function on your model fit. Since this will give you **four diagnostic plots**, it is best to divide the plotting device into four panels using `par`.\n",
        "\n",
        "The first plot (**Tukey-Anscombe Plot**) is good to check for the assumption of *constant variance* of the residuals. This assumption is violated if there is a funnel-shape ur U-shaped distribution.\n",
        "\n",
        "The second plot (**Normal Q-Q Plot**) is good to check for the assumption of *normality* of the residuals. If the points follow the diagonal, they follow a normal distribution. If you don't trust your eye, you can also formally test the null hypothesis of normality using a **Shapiro-Wilk normality test** using `shapiro.test` on the model residuals. If that test turns out significant (p < 0.05), it means that the null hypothesis of normality is rejected, and hence that the residuals are not normally distributed.\n",
        "\n",
        "The **Scale-Location Plot** is similar to the Tukey-Anscombe Plot but plots the square-root of absolute residuals, which allows to see other aspects of residual variance. \n",
        "\n",
        "The **Leverage Plot** is good to identify outliers (points that lie outside of Cook's distance). Such outliers could have a strong effect on the model fit and test results and should be investigated further if present.\n"
      ]
    },
    {
      "cell_type": "code",
      "metadata": {
        "id": "m8fwQw9t9OOR",
        "colab_type": "code",
        "colab": {}
      },
      "source": [
        "# Residual analysis produces 4 plots by default.\n",
        "par(mfrow = c(2,2)) # prepares an plot device layout with 2 columns and 2 rows (4 plots)\n",
        "plot(mod1)\n",
        "par(mfrow = c(1,1))\n",
        "\n",
        "shapiro.test(mod1$resid)"
      ],
      "execution_count": 0,
      "outputs": []
    },
    {
      "cell_type": "markdown",
      "metadata": {
        "id": "DDh-k8PDEh7M",
        "colab_type": "text"
      },
      "source": [
        "Independence of measurements can be assessed by plotting a response variable's values in their order of measurements, or with a **Serial Correlation Plot** using the `acf` function (assuming the the order of measurements of `Petal_length` in the table corresponds to the order of measurements taken on each `Date`. If the autocorrelation function ACF is within the blue dotted lines for lags > 0, the measurements are not significantly autocorrelated (or dependent)."
      ]
    },
    {
      "cell_type": "code",
      "metadata": {
        "id": "t94xeucYEoN6",
        "colab_type": "code",
        "colab": {}
      },
      "source": [
        "ggplot(morph, aes(seq_along(Sepal_length), Sepal_length)) + \n",
        "  geom_line() + geom_point(aes(color = Infection, shape = Infection)) +\n",
        "  labs(x = \"Order of measurement\") +\n",
        "  facet_wrap(~ Elevation + Date + Population, scales = \"free_x\") + \n",
        "  theme_bw()\n",
        "\n",
        "acf(resid(mod1))"
      ],
      "execution_count": 0,
      "outputs": []
    },
    {
      "cell_type": "markdown",
      "metadata": {
        "id": "ebw_wot09ine",
        "colab_type": "text"
      },
      "source": [
        "![Question](https://img.icons8.com/flat_round/64/000000/question-mark.png)\n",
        "* Are the assumptions of normality, constant variance and independence of the residuals met?\n"
      ]
    },
    {
      "cell_type": "markdown",
      "metadata": {
        "id": "uv8H-7E98R0j",
        "colab_type": "text"
      },
      "source": [
        "***\n",
        "### 4.7 Variable transformations\n",
        "Apart from interaction effects, transformations of the resonse Y or the numerical predictors X often help to improve model fit, at the expense of interpretability of the fitted model parameters (estimated effect sizes). There are the following commonly used **first-aid transformations**.\n",
        "\n",
        "- for *positive counts*:               `X <- sqrt(X)`\n",
        "- for *positive continuous variables*: `X <- log(X)`\n",
        "- for *fractions* [0,1]:               `X <- asin(sqr(X))`"
      ]
    },
    {
      "cell_type": "markdown",
      "metadata": {
        "id": "aztFqSbKAtMn",
        "colab_type": "text"
      },
      "source": [
        "![Question](https://img.icons8.com/flat_round/64/000000/question-mark.png)\n",
        "Now try to apply a transformation to the response.\n",
        "* Does the model fit improve?"
      ]
    },
    {
      "cell_type": "code",
      "metadata": {
        "id": "eNoWD04IJ0kn",
        "colab_type": "code",
        "colab": {}
      },
      "source": [
        "## Create your model here"
      ],
      "execution_count": 0,
      "outputs": []
    },
    {
      "cell_type": "markdown",
      "metadata": {
        "id": "uU9jro8IAyeH",
        "colab_type": "text"
      },
      "source": [
        "***\n",
        "### 4.8 Compare nested models\n",
        "Complex models are *less parsimonious* (more parameters need to be estimated). If a complex model can be replaced by a simpler model with an equally good fit, one would always **prefer the simpler model**. \n",
        "\n",
        "You can formally test two **nested** models (i.e. fitted to the same data, one model with one or more additional model terms) using the `anova` function. If the F test turns out significant, the **larger / complex** model (in our case, the model including the interaction term) is a **better** fit to the data, and should thus be preferred over the smaller / simpler model."
      ]
    },
    {
      "cell_type": "code",
      "metadata": {
        "id": "EpMruLOoJ7Jw",
        "colab_type": "code",
        "colab": {}
      },
      "source": [
        "mod.large <- aov(Petal_length ~ Infection * Elevation, data = morph)\n",
        "mod.small <- aov(Petal_length ~ Infection + Elevation, data = morph)\n",
        "print(anova(mod.large,mod.small))"
      ],
      "execution_count": 0,
      "outputs": []
    },
    {
      "cell_type": "markdown",
      "metadata": {
        "id": "ZRjB4MIhchzH",
        "colab_type": "text"
      },
      "source": [
        "![Question](https://img.icons8.com/flat_round/64/000000/question-mark.png)\n",
        "* Would you choose `mod.large` or `mod.small`?"
      ]
    },
    {
      "cell_type": "markdown",
      "metadata": {
        "id": "wpiTpuIfl3UP",
        "colab_type": "text"
      },
      "source": [
        "Also have a look at the `step` function that allows to identify an optimal model among a much more extensive range of possible models. It does so by adding *one* model term to (or remove one model term from) an initial model (`mod.small` in this case). All single term additions and drops that are within the `scope` are tested, and the model with the smallest [AIC](https://en.wikipedia.org/wiki/Akaike_information_criterion) value is kept. These steps are iterated until the AIC does not decrease anymore, and the final model is returned."
      ]
    },
    {
      "cell_type": "code",
      "metadata": {
        "id": "XmXg-iA4l2le",
        "colab_type": "code",
        "colab": {}
      },
      "source": [
        "mod.best <- step(object = mod.small, \n",
        "                 scope = list(lower = Petal_length ~ 1, \n",
        "                              upper = Petal_length ~ Infection * Elevation + Elevation/Population), \n",
        "                 direction = \"both\")\n",
        "\n",
        "par(mfrow = c(2,2))\n",
        "plot(mod.best)\n",
        "par(mfrow = c(1,1))"
      ],
      "execution_count": 0,
      "outputs": []
    },
    {
      "cell_type": "markdown",
      "metadata": {
        "id": "_qz6hXi63aBC",
        "colab_type": "text"
      },
      "source": [
        "![Question](https://img.icons8.com/flat_round/64/000000/question-mark.png)\n",
        "* Which model is selected? (don't forget to check the residuals of this model as well!)"
      ]
    },
    {
      "cell_type": "markdown",
      "metadata": {
        "id": "0j8dtR-v46qG",
        "colab_type": "text"
      },
      "source": [
        "***\n",
        "### 4.9 Contrasts\n",
        "A [**contrast**](https://en.wikipedia.org/wiki/Contrast_(statistics)) is a specific hypothesis to be tested. Imagine that you are not only interested in an *overall* difference in `Petal_length` between `Population`s (or put differently: an overall effect of `Population` on `Petal_length`), but you want to test whether a *specific* population is different from another (or a specific treatment different from a control). You can think of them as t-tests carried out between specific factor levels. \n",
        "\n",
        "You can use **Tukey's Honest Significant Differences** method to test for differences in the response variable between *all* pairs of factor levels. This method is implemented in the `TukeyHSD` function but can be used as an option in the more flexible `glht` function from the [multcomp](https://cran.r-project.org/web/packages/multcomp/vignettes/multcomp-examples.pdf) package. The drawback here is that with many factor levels, you are carrying out a lot of tests, and not all of them answer your questions.\n",
        "\n"
      ]
    },
    {
      "cell_type": "code",
      "metadata": {
        "id": "fQSmiWvl5EO4",
        "colab_type": "code",
        "colab": {}
      },
      "source": [
        "# fit a model of Petal_length and Population\n",
        "mod2 <- aov(Petal_length ~ Population, data = morph)\n",
        "\n",
        "# perform tests for all pairwise comparisons of populations\n",
        "tukey <- glht(mod2, linfct = mcp(Population = \"Tukey\"))\n",
        "# equivalent: tukey <- TukeyHSD(mod2, which = \"Population\")\n",
        "\n",
        "# tabular output\n",
        "summary(tukey)\n",
        "\n",
        "# graphical output\n",
        "oldmar <- par()$mar # get default margins\n",
        "par(mar = c(5.1, 12, 4.1, 2.1)) # give more left margin\n",
        "plot(tukey)\n",
        "par(mar = oldmar) # reset margins to default\n",
        "\n",
        "# residual analysis for mod2\n",
        "par(mfrow=c(2,2))\n",
        "plot(mod2)\n",
        "par(mfrow=c(2,2))"
      ],
      "execution_count": 0,
      "outputs": []
    },
    {
      "cell_type": "markdown",
      "metadata": {
        "id": "OyohcS5DRmnx",
        "colab_type": "text"
      },
      "source": [
        "![Question](https://img.icons8.com/flat_round/64/000000/question-mark.png)\n",
        "* Which population pair shows the largest difference in `Petal_length`?"
      ]
    },
    {
      "cell_type": "markdown",
      "metadata": {
        "id": "5Wa5iGOic-Gp",
        "colab_type": "text"
      },
      "source": [
        "The `glht` function can do much more. It allows you to control which comparisons (tests) should be carried out. Each comparison is a separate test on the same dataset, therefore we have a **multiple testing problem**. The function `summary` on `glht` objects allows to set which p-value correction method should be used to correct for the multiple testing. The use of `glht` for specific contrasts requires the definition of a **contrast matrix**. It is a bit tricky to set up, but try to understand the following example, and you will be able to set specific contrasts that exactly match your research questions, while accounting for the multiple testing involved. These contrasts can be pairwise comparisons, but can also be more complex, as in the next example.\n",
        "\n",
        "Let us now test whether `Petal_length` is significatly different between \n",
        "- Zeneggen and (Faldumalp and Grengiols)\n",
        "- Zermatt and Niedergampel\n",
        "- Zermatt and Zeneggen\n",
        "- Zeneggen and Unterstalden\n",
        "- Zeneggen and Grengiols\n",
        "\n",
        "Follow these *rules* to create the **contrast matrix** *K*\n",
        "- use sensible rownames for each contrast (will appear in the summary)\n",
        "- columns correspond to the factor level (in the same order as `levels(<factor>)`, alphabetical by default)\n",
        "- set the coefficient to `0` if a level is not used in a contrast\n",
        "- use positive coefficients for levels in the first group and negative coefficients for levels in the second group\n",
        "- levels in the first and second group *must* add up to 1 and -1, respectively\n",
        "- each row *must* add up to zero"
      ]
    },
    {
      "cell_type": "code",
      "metadata": {
        "id": "5Yom8z_Hc8bb",
        "colab_type": "code",
        "colab": {}
      },
      "source": [
        "# define the contrast matrix for specific contrasts of interest\n",
        "#              first  -  second                 Fal, Gib, Gre, Nie, Sim, Unt, Zen, Zer\n",
        "K <- rbind(\"Zeneggen - Faldumalp+Grengiols\"= c(-1/2,   0,-1/2,   0,   0,   0,   1,   0),\n",
        "           \"Zermatt - Niedergampel\"        = c(   0,   0,   0,  -1,   0,   0,   0,   1),\n",
        "           \"Zermatt - Zeneggen\"            = c(   0,   0,   0,   0,   0,   0,  -1,   1),\n",
        "           \"Zeneggen - Unterstalden\"       = c(   0,   0,   0,   0,   0,  -1,   1,   0),\n",
        "           \"Zeneggen - Grengiols\"          = c(   0,   0,  -1,   0,   0,   0,   1,   0))\n",
        "\n",
        "# tabular output\n",
        "# \"single-step\" is the default p-value correcton method\n",
        "# The \"BH\" (Bonferroni-Holm) method is less conservative and more powerful than \"bonferroni\"\n",
        "summary(specific <- glht(mod2, linfct = mcp(Population = K)), test = adjusted(\"single-step\"))\n",
        "\n",
        "# corresponding t-tests for comparison\n",
        "t.test(morph$Petal_length[morph$Population %in% c(\"Zeneggen\")],\n",
        "       morph$Petal_length[morph$Population %in% c(\"Faldumalp\",\"Grengiols\")])\n",
        "t.test(morph$Petal_length[morph$Population %in% \"Zermatt\"],\n",
        "       morph$Petal_length[morph$Population %in% \"Niedergampel\"])\n",
        "t.test(morph$Petal_length[morph$Population %in% \"Zermatt\"],\n",
        "       morph$Petal_length[morph$Population %in% \"Zeneggen\"])\n",
        "t.test(morph$Petal_length[morph$Population %in% \"Zeneggen\"],\n",
        "       morph$Petal_length[morph$Population %in% \"Unterstalden\"])\n",
        "t.test(morph$Petal_length[morph$Population %in% \"Zeneggen\"],\n",
        "       morph$Petal_length[morph$Population %in% \"Grengiols\"])"
      ],
      "execution_count": 0,
      "outputs": []
    },
    {
      "cell_type": "markdown",
      "metadata": {
        "id": "cbhGV_m5L-j0",
        "colab_type": "text"
      },
      "source": [
        "![Question](https://img.icons8.com/flat_round/64/000000/question-mark.png)\n",
        "Compare results of the specific contrasts to the TukeyHSD results and the t-test results. \n",
        "- Why is there a difference between the specific contrasts results and the TukeyHSD results?\n",
        "- Why is it better to specify specific contrasts rather than carry out multiple t-tests?"
      ]
    },
    {
      "cell_type": "markdown",
      "metadata": {
        "id": "0K_aVtDlBu1z",
        "colab_type": "text"
      },
      "source": [
        "***\n",
        "## 5 Multivariate Analyses"
      ]
    },
    {
      "cell_type": "markdown",
      "metadata": {
        "id": "XJNrcM2gVtAH",
        "colab_type": "text"
      },
      "source": [
        "[Multivariate analysis](https://en.wikipedia.org/wiki/Multivariate_analysis) is a broad term that includes methods such as **Clustering analysis**, **Principal Component Analysis** (PCA), or **Linear Discriminant Analysis** (LDA).\n"
      ]
    },
    {
      "cell_type": "markdown",
      "metadata": {
        "id": "AxfTbsMSWfd-",
        "colab_type": "text"
      },
      "source": [
        "### 5.1 The `d.mis` dataset\n",
        "The `d.mis` dataset contains morphological measurements of 10 leaf characters in eight [*Dalbergia*](https://www.gbif.org/occurrence/gallery?country=MG&taxon_key=2968358) [rosewood](https://en.wikipedia.org/wiki/Rosewood) species from Madagascar. \n",
        "\n",
        "Let us read the data and get an overview. Note the use of `row.names` here: it automatically assigns row names of the resulting `data.frame` as the values stored in the column `ID`, and removes `ID` from the set of variables.\n",
        "\n",
        "Before starting any analysis, always check that the data was read in correctly using `str`."
      ]
    },
    {
      "cell_type": "code",
      "metadata": {
        "id": "yGdh_C4XBxGZ",
        "colab_type": "code",
        "colab": {
          "base_uri": "https://localhost:8080/",
          "height": 295
        },
        "outputId": "8a4f5cb9-91a3-4a73-9fa8-6b21a9435a8e"
      },
      "source": [
        "d.mis <- read.csv(\"https://raw.githubusercontent.com/scrameri/Umweltbiologie/master/Multivariate.csv\", row.names = \"ID\")\n",
        "str(d.mis)\n",
        "\n",
        "cat(\"\\nprint rownames\\n\")\n",
        "print(head(rownames(d.mis)))"
      ],
      "execution_count": 17,
      "outputs": [
        {
          "output_type": "stream",
          "text": [
            "'data.frame':\t126 obs. of  12 variables:\n",
            " $ Species            : Factor w/ 8 levels \"Species1\",\"Species2\",..: 1 1 1 1 1 1 1 1 1 1 ...\n",
            " $ Region             : Factor w/ 2 levels \"North\",\"South\": 1 1 1 1 1 1 1 1 1 1 ...\n",
            " $ leaf.length        : num  66.7 74.9 108.2 60.7 81 ...\n",
            " $ leaflet.length     : num  6.7 10.34 9.83 11.85 11.97 ...\n",
            " $ leaflet.width      : num  2.75 4.96 6.15 5.25 5.52 ...\n",
            " $ leaflet.area       : num  14.3 41.9 48 50.6 48.1 ...\n",
            " $ leaflet.upper.hairy: int  3 3 3 3 3 3 3 3 3 3 ...\n",
            " $ leaflet.lower.hairy: int  3 3 3 NA 3 3 3 3 3 3 ...\n",
            " $ leaf.hairy         : int  3 3 3 3 3 3 3 3 3 3 ...\n",
            " $ leaflet.shape1     : num  0.031349 -0.029322 -0.127907 -0.001541 -0.000669 ...\n",
            " $ leaflet.shape2     : num  0.00889 0.00466 0.01281 -0.00471 0.00108 ...\n",
            " $ length.width       : num  2.49 2.1 1.63 2.26 2.13 ...\n",
            "\n",
            "print rownames\n",
            "[1] \"SH031\" \"SH047\" \"SH050\" \"SH052\" \"SH071\" \"SH099\"\n"
          ],
          "name": "stdout"
        }
      ]
    },
    {
      "cell_type": "markdown",
      "metadata": {
        "id": "y_VBrYbzV5Dl",
        "colab_type": "text"
      },
      "source": [
        "Since the dataset does not have too many variables, we can produce all pairwise plots using `ggparis` from the [*GGally*](https://cran.r-project.org/web/packages/GGally/index.html) package."
      ]
    },
    {
      "cell_type": "code",
      "metadata": {
        "id": "WoqP44DxPaZ3",
        "colab_type": "code",
        "colab": {
          "base_uri": "https://localhost:8080/",
          "height": 1000
        },
        "outputId": "5c61e3b5-a555-476d-ff6a-6302af9bdecc"
      },
      "source": [
        "gp <- ggpairs(data = d.mis)\n",
        "print(gp)"
      ],
      "execution_count": 15,
      "outputs": [
        {
          "output_type": "stream",
          "text": [
            "Warning message:\n",
            "“Removed 5 rows containing non-finite values (stat_boxplot).”\n",
            "Warning message:\n",
            "“Removed 12 rows containing non-finite values (stat_boxplot).”\n",
            "Warning message:\n",
            "“Removed 7 rows containing non-finite values (stat_boxplot).”\n",
            "Warning message:\n",
            "“Removed 5 rows containing non-finite values (stat_boxplot).”\n",
            "Warning message:\n",
            "“Removed 12 rows containing non-finite values (stat_boxplot).”\n",
            "Warning message:\n",
            "“Removed 7 rows containing non-finite values (stat_boxplot).”\n",
            "`stat_bin()` using `bins = 30`. Pick better value with `binwidth`.\n",
            "\n",
            "`stat_bin()` using `bins = 30`. Pick better value with `binwidth`.\n",
            "\n",
            "Warning message in (function (data, mapping, alignPercent = 0.6, method = \"pearson\", :\n",
            "“Removed 5 rows containing missing values”\n",
            "Warning message in (function (data, mapping, alignPercent = 0.6, method = \"pearson\", :\n",
            "“Removed 12 rows containing missing values”\n",
            "Warning message in (function (data, mapping, alignPercent = 0.6, method = \"pearson\", :\n",
            "“Removed 7 rows containing missing values”\n",
            "`stat_bin()` using `bins = 30`. Pick better value with `binwidth`.\n",
            "\n",
            "`stat_bin()` using `bins = 30`. Pick better value with `binwidth`.\n",
            "\n",
            "Warning message in (function (data, mapping, alignPercent = 0.6, method = \"pearson\", :\n",
            "“Removed 5 rows containing missing values”\n",
            "Warning message in (function (data, mapping, alignPercent = 0.6, method = \"pearson\", :\n",
            "“Removed 12 rows containing missing values”\n",
            "Warning message in (function (data, mapping, alignPercent = 0.6, method = \"pearson\", :\n",
            "“Removed 7 rows containing missing values”\n",
            "`stat_bin()` using `bins = 30`. Pick better value with `binwidth`.\n",
            "\n",
            "`stat_bin()` using `bins = 30`. Pick better value with `binwidth`.\n",
            "\n",
            "Warning message in (function (data, mapping, alignPercent = 0.6, method = \"pearson\", :\n",
            "“Removed 5 rows containing missing values”\n",
            "Warning message in (function (data, mapping, alignPercent = 0.6, method = \"pearson\", :\n",
            "“Removed 12 rows containing missing values”\n",
            "Warning message in (function (data, mapping, alignPercent = 0.6, method = \"pearson\", :\n",
            "“Removed 7 rows containing missing values”\n",
            "`stat_bin()` using `bins = 30`. Pick better value with `binwidth`.\n",
            "\n",
            "`stat_bin()` using `bins = 30`. Pick better value with `binwidth`.\n",
            "\n",
            "Warning message in (function (data, mapping, alignPercent = 0.6, method = \"pearson\", :\n",
            "“Removed 5 rows containing missing values”\n",
            "Warning message in (function (data, mapping, alignPercent = 0.6, method = \"pearson\", :\n",
            "“Removed 12 rows containing missing values”\n",
            "Warning message in (function (data, mapping, alignPercent = 0.6, method = \"pearson\", :\n",
            "“Removed 7 rows containing missing values”\n",
            "`stat_bin()` using `bins = 30`. Pick better value with `binwidth`.\n",
            "\n",
            "Warning message:\n",
            "“Removed 5 rows containing non-finite values (stat_bin).”\n",
            "`stat_bin()` using `bins = 30`. Pick better value with `binwidth`.\n",
            "\n",
            "Warning message:\n",
            "“Removed 5 rows containing non-finite values (stat_bin).”\n",
            "Warning message:\n",
            "“Removed 5 rows containing missing values (geom_point).”\n",
            "Warning message:\n",
            "“Removed 5 rows containing missing values (geom_point).”\n",
            "Warning message:\n",
            "“Removed 5 rows containing missing values (geom_point).”\n",
            "Warning message:\n",
            "“Removed 5 rows containing missing values (geom_point).”\n",
            "Warning message:\n",
            "“Removed 5 rows containing non-finite values (stat_density).”\n",
            "Warning message in (function (data, mapping, alignPercent = 0.6, method = \"pearson\", :\n",
            "“Removed 17 rows containing missing values”\n",
            "Warning message in (function (data, mapping, alignPercent = 0.6, method = \"pearson\", :\n",
            "“Removed 11 rows containing missing values”\n",
            "Warning message in (function (data, mapping, alignPercent = 0.6, method = \"pearson\", :\n",
            "“Removed 5 rows containing missing values”\n",
            "Warning message in (function (data, mapping, alignPercent = 0.6, method = \"pearson\", :\n",
            "“Removed 5 rows containing missing values”\n",
            "Warning message in (function (data, mapping, alignPercent = 0.6, method = \"pearson\", :\n",
            "“Removed 5 rows containing missing values”\n",
            "`stat_bin()` using `bins = 30`. Pick better value with `binwidth`.\n",
            "\n",
            "Warning message:\n",
            "“Removed 12 rows containing non-finite values (stat_bin).”\n",
            "`stat_bin()` using `bins = 30`. Pick better value with `binwidth`.\n",
            "\n",
            "Warning message:\n",
            "“Removed 12 rows containing non-finite values (stat_bin).”\n",
            "Warning message:\n",
            "“Removed 12 rows containing missing values (geom_point).”\n",
            "Warning message:\n",
            "“Removed 12 rows containing missing values (geom_point).”\n",
            "Warning message:\n",
            "“Removed 12 rows containing missing values (geom_point).”\n",
            "Warning message:\n",
            "“Removed 12 rows containing missing values (geom_point).”\n",
            "Warning message:\n",
            "“Removed 17 rows containing missing values (geom_point).”\n",
            "Warning message:\n",
            "“Removed 12 rows containing non-finite values (stat_density).”\n",
            "Warning message in (function (data, mapping, alignPercent = 0.6, method = \"pearson\", :\n",
            "“Removed 18 rows containing missing values”\n",
            "Warning message in (function (data, mapping, alignPercent = 0.6, method = \"pearson\", :\n",
            "“Removed 12 rows containing missing values”\n",
            "Warning message in (function (data, mapping, alignPercent = 0.6, method = \"pearson\", :\n",
            "“Removed 12 rows containing missing values”\n",
            "Warning message in (function (data, mapping, alignPercent = 0.6, method = \"pearson\", :\n",
            "“Removed 12 rows containing missing values”\n",
            "`stat_bin()` using `bins = 30`. Pick better value with `binwidth`.\n",
            "\n",
            "Warning message:\n",
            "“Removed 7 rows containing non-finite values (stat_bin).”\n",
            "`stat_bin()` using `bins = 30`. Pick better value with `binwidth`.\n",
            "\n",
            "Warning message:\n",
            "“Removed 7 rows containing non-finite values (stat_bin).”\n",
            "Warning message:\n",
            "“Removed 7 rows containing missing values (geom_point).”\n",
            "Warning message:\n",
            "“Removed 7 rows containing missing values (geom_point).”\n",
            "Warning message:\n",
            "“Removed 7 rows containing missing values (geom_point).”\n",
            "Warning message:\n",
            "“Removed 7 rows containing missing values (geom_point).”\n",
            "Warning message:\n",
            "“Removed 11 rows containing missing values (geom_point).”\n",
            "Warning message:\n",
            "“Removed 18 rows containing missing values (geom_point).”\n",
            "Warning message:\n",
            "“Removed 7 rows containing non-finite values (stat_density).”\n",
            "Warning message in (function (data, mapping, alignPercent = 0.6, method = \"pearson\", :\n",
            "“Removed 7 rows containing missing values”\n",
            "Warning message in (function (data, mapping, alignPercent = 0.6, method = \"pearson\", :\n",
            "“Removed 7 rows containing missing values”\n",
            "Warning message in (function (data, mapping, alignPercent = 0.6, method = \"pearson\", :\n",
            "“Removed 7 rows containing missing values”\n",
            "`stat_bin()` using `bins = 30`. Pick better value with `binwidth`.\n",
            "\n",
            "`stat_bin()` using `bins = 30`. Pick better value with `binwidth`.\n",
            "\n",
            "Warning message:\n",
            "“Removed 5 rows containing missing values (geom_point).”\n",
            "Warning message:\n",
            "“Removed 12 rows containing missing values (geom_point).”\n",
            "Warning message:\n",
            "“Removed 7 rows containing missing values (geom_point).”\n",
            "`stat_bin()` using `bins = 30`. Pick better value with `binwidth`.\n",
            "\n",
            "`stat_bin()` using `bins = 30`. Pick better value with `binwidth`.\n",
            "\n",
            "Warning message:\n",
            "“Removed 5 rows containing missing values (geom_point).”\n",
            "Warning message:\n",
            "“Removed 12 rows containing missing values (geom_point).”\n",
            "Warning message:\n",
            "“Removed 7 rows containing missing values (geom_point).”\n",
            "`stat_bin()` using `bins = 30`. Pick better value with `binwidth`.\n",
            "\n",
            "`stat_bin()` using `bins = 30`. Pick better value with `binwidth`.\n",
            "\n",
            "Warning message:\n",
            "“Removed 5 rows containing missing values (geom_point).”\n",
            "Warning message:\n",
            "“Removed 12 rows containing missing values (geom_point).”\n",
            "Warning message:\n",
            "“Removed 7 rows containing missing values (geom_point).”\n"
          ],
          "name": "stderr"
        },
        {
          "output_type": "display_data",
          "data": {
            "image/png": "[encoded data removed]",
            "text/plain": [
              "plot without title"
            ]
          },
          "metadata": {
            "tags": [],
            "image/png": {
              "width": 420,
              "height": 420
            },
            "text/plain": {
              "width": 420,
              "height": 420
            }
          }
        }
      ]
    },
    {
      "cell_type": "markdown",
      "metadata": {
        "id": "Ba9Vzjy3jfGr",
        "colab_type": "text"
      },
      "source": [
        "You see that some of the variables are highly *correlated* among each other. While this is a potential problem for linear models, this is not a problem for many multivariate techniques."
      ]
    },
    {
      "cell_type": "markdown",
      "metadata": {
        "id": "LlBwoEGSRgwp",
        "colab_type": "text"
      },
      "source": [
        "### Data imputation\n",
        "Most multivariate techniques cannot handle missing values. Bear this in mind when designing experiments and measuring data, and make sure to collect data that is *as complete as possible*.\n",
        "\n",
        "One way to get around the missingness problem is to do a **Complete Case Analysis** by removing any individual with missing data. This may lead to loss of many individuals (most of the data) if missingness is distributed randomly accross individuals.\n",
        "\n",
        "In the case of large datasets such as genetic datasets, one often has little data for some variables (genetic loci) for technical reasons. These loci might however be highly correlated to other loci with less missingness, and can thus be entirely removed from analysis without much information loss. \n",
        "\n",
        "However, before you remove any variable with one or more missing values, it makes sense to remove individuals that have few overall data, because that might 'save' many variables from being excluded at the expense of just a few excluded individuals.\n"
      ]
    },
    {
      "cell_type": "markdown",
      "metadata": {
        "id": "gaK245jnWVo5",
        "colab_type": "text"
      },
      "source": [
        "Let us check how much missingness our dataset has, using a *self-written* **function** that computes the proportion of missing data.\n",
        "\n",
        "Think of `x` as a vector of numbers, e.g. one column or one row in the dataset. The missingness is a function of `x`, and computed as the `sum` of `NA` values in `x` divided by the number of observations in `x`. Such a function is only slightly more complex than standard functions such as `mean`, but it could be an arbitrarily complex function with many intermediate steps and variables."
      ]
    },
    {
      "cell_type": "code",
      "metadata": {
        "id": "btdOuM05Rw-2",
        "colab_type": "code",
        "colab": {}
      },
      "source": [
        "# define the function that computes the percentage of missing values in a numeric vector\n",
        "missingness <- function(x) {sum(is.na(x))/length(x)}"
      ],
      "execution_count": 0,
      "outputs": []
    },
    {
      "cell_type": "markdown",
      "metadata": {
        "id": "HVrdldkYa7C4",
        "colab_type": "text"
      },
      "source": [
        "#### The apply function family\n",
        "Let us now apply this function to all columns, and all rows, to identify how much missingness these have. For such tasks, we use the `apply` familiy of functions. Have a look at the manuals for `apply`, `sapply`, `lapply` and `tapply`, these can be quite useful and save quite a lot of coding.\n",
        "\n",
        "The function `apply` takes a `data.frame` `X` as input, a `MARGIN` specification, and *applies* the function specified by the `FUN` argument to *each* element of the data subset defined by `MARGIN`. The output of `apply` can be a single value, a named vector or a matrix, depending on the `MARGIN` and `FUN` employed.\n",
        "\n",
        "`MARGIN` can be set as\n",
        "- `1` for \"apply function over each row\"\n",
        "- `2` for \"apply function over each column\"\n",
        "- `c(1,2)` for \"apply function over rows and columns\"\n"
      ]
    },
    {
      "cell_type": "markdown",
      "metadata": {
        "id": "nV0BX5vWG-b8",
        "colab_type": "text"
      },
      "source": [
        "By the way: any further arguments that are taken by `FUN` can be passed as additional arguments, as indicated by the `...` in the `apply` function definition. If you wanted to apply the `mean` function to get column means, you could set `FUN = mean, na.rm = TRUE` to override the default behaviour that returns `NA` if there are missing values."
      ]
    },
    {
      "cell_type": "code",
      "metadata": {
        "id": "PryfejCKhfDu",
        "colab_type": "code",
        "colab": {
          "base_uri": "https://localhost:8080/",
          "height": 147
        },
        "outputId": "c37f3357-87c8-4f13-d8b5-00e5026b4a26"
      },
      "source": [
        "print(apply(X = d.mis[,-c(1:2)], MARGIN = 2, FUN = mean))"
      ],
      "execution_count": 13,
      "outputs": [
        {
          "output_type": "error",
          "ename": "ERROR",
          "evalue": "ignored",
          "traceback": [
            "Error in apply(X = d.mis[, -c(1:2)], MARGIN = 2, FUN = mean): object 'd.mis' not found\nTraceback:\n",
            "1. print(apply(X = d.mis[, -c(1:2)], MARGIN = 2, FUN = mean))",
            "2. apply(X = d.mis[, -c(1:2)], MARGIN = 2, FUN = mean)"
          ]
        }
      ]
    },
    {
      "cell_type": "code",
      "metadata": {
        "id": "nE-FIVOkhsGN",
        "colab_type": "code",
        "colab": {}
      },
      "source": [
        "print(apply(X = d.mis[,-c(1:2)], MARGIN = 2, FUN = mean, na.rm = TRUE))"
      ],
      "execution_count": 0,
      "outputs": []
    },
    {
      "cell_type": "markdown",
      "metadata": {
        "id": "heEyvTOJhwUl",
        "colab_type": "text"
      },
      "source": [
        "You can now combine `apply` with the self-written function `missingness` as follows (once over individuals, once over variables):"
      ]
    },
    {
      "cell_type": "code",
      "metadata": {
        "id": "I3WQf8JwbEIU",
        "colab_type": "code",
        "colab": {}
      },
      "source": [
        "mis.rows <- apply(X = d.mis[,-c(1:2)], MARGIN = 1, FUN = missingness) # MARGIN = 1 computes over *rows*\n",
        "mis.cols <- apply(X = d.mis[,-c(1:2)], MARGIN = 2, FUN = missingness) # MARGIN = 2 computes over *columns*\n",
        "\n",
        "# this sorts the individual and variable missingness and shows the 10 instances with highest missingness\n",
        "cat(\"\\nmissingness per individual\\n\")\n",
        "print(head(sort(mis.rows, decreasing = TRUE), n = 10))\n",
        "\n",
        "cat(\"\\nmissingness per variable\\n\")\n",
        "print(head(sort(mis.cols, decreasing = TRUE), n = 10))"
      ],
      "execution_count": 0,
      "outputs": []
    },
    {
      "cell_type": "markdown",
      "metadata": {
        "id": "b-Oeo6CvcoJd",
        "colab_type": "text"
      },
      "source": [
        "We see that one variable has nearly 10% missing data, while two individuals have 20% missingness. Excluding one out of 10 variables would throw away much more information than excluding two out of 126 individuals that likely contribute to the observed missingness in `leaflet.lower.hairy`. Before removing the two individuals, check what you are losing in terms of observations per `Species`.\n",
        "\n",
        "![Question](https://img.icons8.com/flat_round/64/000000/question-mark.png)\n",
        "- To which `Species` do the two individuals with high missingness belong?\n",
        "- Can we remove these individuals without losing data for a given `Species`? If yes, create a data.frame where these individuals are excluded."
      ]
    },
    {
      "cell_type": "code",
      "metadata": {
        "id": "tOLGzC4ae3Cn",
        "colab_type": "code",
        "colab": {}
      },
      "source": [
        "# write your code here"
      ],
      "execution_count": 0,
      "outputs": []
    },
    {
      "cell_type": "markdown",
      "metadata": {
        "id": "tqn5SYVHiSeW",
        "colab_type": "text"
      },
      "source": [
        "If the data table still contains missing values after removing individuals or/and variables with little data, these can be replaced by some unbiased values via **data imputation**. There are many sophisticated methods to do this. One simple method is to impute **variable means**.\n",
        "\n",
        "BEWARE: always bear in mind how much missingness your data has. Everitt & Hothorn (2011) write: \n",
        ">\"Imputing an observed variable mean for a variable with missing values preserves the observed sample means but distorts the covariance matrix [...], biasing estimated variances and covariances towards zero. [...] one should always bear in mind that the imputed values are not real measurements. We do not get something for nothing! And if there is a substantial proportion of individuals with large amounts of missing data, one should clearly question whether any form of statistical analysis is worth the bother.\"\n"
      ]
    },
    {
      "cell_type": "markdown",
      "metadata": {
        "id": "aXSaqlIGicQt",
        "colab_type": "text"
      },
      "source": [
        "![Question](https://img.icons8.com/flat_round/64/000000/question-mark.png)\n",
        "- Can you write a function that replaces all `NA` values in a vector by the `mean` of that vector? Hint: use the `return` function to return the imputed vector at the end of your function.\n",
        "- Can you apply that function to all variables with missing data, and assign the output to a `data.frame` named `d.imp`? Hint: apply returns a `matrix` rather than a `data.frame`."
      ]
    },
    {
      "cell_type": "code",
      "metadata": {
        "id": "J3FwVKxbiad1",
        "colab_type": "code",
        "colab": {}
      },
      "source": [
        "# Write your function and application here\n",
        "\n",
        "# Test your function on this test vector (yourfunction(tes))\n",
        "test <- c(1.1,3.2,6.4,NA,3.6)\n",
        "print(mean(test, na.rm = TRUE))\n",
        "\n",
        "# Apply your function to all numeric columns of d.mis, and assign the output to d.imp"
      ],
      "execution_count": 0,
      "outputs": []
    },
    {
      "cell_type": "markdown",
      "metadata": {
        "id": "Gvejb-FaJfIc",
        "colab_type": "text"
      },
      "source": [
        "***\n",
        "### Data Aggregation\n",
        "It may be of interest to compute a **summary statistic** such as the `median` of *all* numeric variables *per species*. This would allow for a quick comparison between species.\n",
        "\n",
        "Of course, one could do subsets of the dataset for each species to calculate the summary statistic, or apply the `tapply` function for each variable, but that takes lines of code for each species or variable, respectively. There is an even more powerful function to do such calculations in *one* line of code. Meet the `aggregate` function: it takes a `data.frame` of numeric variables as input, and applies a specified function `FUN` to *subsets* of each variable. The subsets are defined by the `by` argument, and can include one or more factor variables, which *have* to be specified as a *list*.\n"
      ]
    },
    {
      "cell_type": "code",
      "metadata": {
        "id": "g8AZOEU-JrVx",
        "colab_type": "code",
        "colab": {}
      },
      "source": [
        "aggregate(x = d.mis[,-c(1,2)], by = list(d.mis$Species), FUN = median, na.rm = TRUE)\n",
        "\n",
        "# It even works if we want to summarize (aggregate) the data by two factors'\n",
        "aggregate(x = d.mis[,-c(1,2)], by = list(d.mis$Species, d.mis$Region), FUN = median, na.rm = TRUE)"
      ],
      "execution_count": 0,
      "outputs": []
    },
    {
      "cell_type": "markdown",
      "metadata": {
        "id": "z2Pccgb6MbBi",
        "colab_type": "text"
      },
      "source": [
        "***\n",
        "### Plot multivariate data\n",
        "There are a number of special plots designed to visualize large multivariate datasets. One of them is the **Co-Plot**. A Co-Plot displays scatterplots of two variables, but separately for different states of up to two other continuous or discrete variables.\n",
        "\n",
        "The `coplot` function takes the variables to be displayed as a formula:\n",
        "- `coplot(y ~ x | separated_by_x + separated_by_y, data = data)`\n"
      ]
    },
    {
      "cell_type": "code",
      "metadata": {
        "id": "Kl6ue35LMmep",
        "colab_type": "code",
        "colab": {}
      },
      "source": [
        "# color vector for 8 species\n",
        "col <- c(\"#A6CEE3\",\"#72B29C\",\"#4F9F3B\",\"#E93E3F\",\"#FDAC4F\",\"#D1AAB7\",\"#A99099\",\"#B15928\")\n",
        "\n",
        "# Co-Plot\n",
        "coplot(leaflet.shape1 ~ leaflet.length | Species + Region, data = d.mis, \n",
        "       col = col[d.mis$Species], pch = 19)  # note the use of col\n",
        "legend(\"topright\",levels(d.mis$Species),pch = 19, col = col, \n",
        "       xpd = TRUE, bty = \"n\", cex = 0.7)"
      ],
      "execution_count": 0,
      "outputs": []
    },
    {
      "cell_type": "markdown",
      "metadata": {
        "id": "s9oJnmmNN7ry",
        "colab_type": "text"
      },
      "source": [
        "Now we already see that Species1, 2, 3 and 5 are similar with respect to leaflet.length and leaflet.shape1, or that Species 6 has by far the longest leaflets. But what about overall similarity based on all the data (could be thousands of variables, think e.g. of next-generation sequencing data)? This is a **dimensionality problem**, which is where **Principal Components Analysis** (PCA) can help."
      ]
    },
    {
      "cell_type": "markdown",
      "metadata": {
        "id": "8gtNGpDRzL2Y",
        "colab_type": "text"
      },
      "source": [
        "PCA can only handle **numeric** data (continuous or discrete). Let us therefore subset the numeric variables from the imputed dataset."
      ]
    },
    {
      "cell_type": "code",
      "metadata": {
        "id": "aOx1BRKhzRUF",
        "colab_type": "code",
        "colab": {}
      },
      "source": [
        "numericvars <- names(d.mis)[-c(1:2)]\n",
        "factorvars <- names(d.mis)[1:2]\n",
        "\n",
        "# define impute function\n",
        "impute <- function(x) {x[is.na(x)] <- mean(x, na.rm = TRUE) ; return(x)}\n",
        "\n",
        "# apply impute function and assign data.frame with factor variables\n",
        "d.imp <- data.frame(d.mis[,factorvars], apply(d.mis[,numericvars], 2, impute))\n",
        "\n",
        "# subset data.frame to include numeric variables only\n",
        "d.pca <- d.imp[,numericvars]"
      ],
      "execution_count": 0,
      "outputs": []
    },
    {
      "cell_type": "markdown",
      "metadata": {
        "id": "X2VirwJE5JkC",
        "colab_type": "text"
      },
      "source": [
        "### Principal Component Analysis (PCA)\n",
        "\n",
        "Before PCA is carried out, the dataset is sometimes transformed. Two transformations are important here:\n",
        "- centering `x <- x-mean(x)`\n",
        "- scaling `x <- x/sd(x)`\n",
        "\n",
        "In PCA, all variables are usually **centered** around zero, by subtracting their mean. The question is whether one should **scale** the variables to unit variance, that is, divide them by their standard deviation. \n",
        "\n",
        "Rules: \n",
        "- if you deal with variables that measure different aspects on *different scales* such as size and shape, these variables will have very *different variance*. If you want to normalize for the different scale, it is very important to scale the variables to unit variance.\n",
        "- remove any variable with *zero* variance, otherwise prcomp will throw an error."
      ]
    },
    {
      "cell_type": "code",
      "metadata": {
        "id": "pKOuq3jb6oi_",
        "colab_type": "code",
        "colab": {}
      },
      "source": [
        "print(sort(apply(X = d.pca, MARGIN = 2, FUN = var), decreasing = TRUE))"
      ],
      "execution_count": 0,
      "outputs": []
    },
    {
      "cell_type": "markdown",
      "metadata": {
        "id": "aBQi1HsuQnDa",
        "colab_type": "text"
      },
      "source": [
        "\n",
        "Every variable has variation, but `leaflet.area` has 10^10 times the variance of `leaflet.shape2`. That ist due to the scale of measurement, not due to the amount of information that these variables contain. We will therefore center and scale the dataset for PCA as follows:![alt text](https://)"
      ]
    },
    {
      "cell_type": "code",
      "metadata": {
        "id": "llLij22B7Alz",
        "colab_type": "code",
        "colab": {}
      },
      "source": [
        "# Principal Component Analysis (PCA)\n",
        "pca <- prcomp(x = d.pca, center = TRUE, scale. = TRUE) # don't forget the \".\" after scale!\n",
        "# prcomp(x = scale(d.pca, center = TRUE, scale = TRUE), center = FALSE, scale. = FALSE)' # equivalent\n",
        "\n",
        "# Structure of objects of class 'pca'\n",
        "str(pca)"
      ],
      "execution_count": 0,
      "outputs": []
    },
    {
      "cell_type": "markdown",
      "metadata": {
        "id": "EE_eAy5s7QBC",
        "colab_type": "text"
      },
      "source": [
        "In `pca` objects, there are three important results to look at:\n",
        "- `$x` gives the **PCA scores**, the coordinates of each individual in PCA space\n",
        "- `$sdev` contains information on the squared variance (**standard deviation**) of each principal component (PC)\n",
        "- `$rotation` contains **variable loadings**, the information on how much each original variable contributs to each PC"
      ]
    },
    {
      "cell_type": "markdown",
      "metadata": {
        "id": "kL5oYIBr9GEb",
        "colab_type": "text"
      },
      "source": [
        "#### The PCA scores\n",
        "Let us take a look at the PCA scores. Note why it was worth to set the `ID` variable as rownames."
      ]
    },
    {
      "cell_type": "code",
      "metadata": {
        "id": "ozvf2Fjz9Qtx",
        "colab_type": "code",
        "colab": {}
      },
      "source": [
        "head(pca$x, n = 3)"
      ],
      "execution_count": 0,
      "outputs": []
    },
    {
      "cell_type": "markdown",
      "metadata": {
        "id": "zMojDVWV9P0B",
        "colab_type": "text"
      },
      "source": [
        "If you have more individuals than variables, the PCA scores table has dimension [number of individuals, number of variables]. If you had less individuals than variables, the dimensions would be [number of individuals, number of individuals].\n",
        "  \n",
        "In total, the information contained in `pca$x` is equivalent to the information in the input data. The difference between the PCA scores and the original data is that the first few PCs contain most of the variation (i.e., information), whereas the informative variation may be scattered throughout all variables in the original data. This **reduction of dimensionality** is one important goal of PCA."
      ]
    },
    {
      "cell_type": "code",
      "metadata": {
        "id": "F9M01k2Z9XQ3",
        "colab_type": "code",
        "colab": {}
      },
      "source": [
        "dim(pca$x)"
      ],
      "execution_count": 0,
      "outputs": []
    },
    {
      "cell_type": "markdown",
      "metadata": {
        "id": "resRPbTu9P2_",
        "colab_type": "text"
      },
      "source": [
        "#### The Principal Component variance\n",
        "In PCA, we want to know the *fraction of variance* contained in (explained by) each principal component. Remember from your statistics course that variance is squared standard deviation. The fraction is simply computed as the component variance divided by the total variance."
      ]
    },
    {
      "cell_type": "code",
      "metadata": {
        "id": "5tY7nBy8_kVH",
        "colab_type": "code",
        "colab": {}
      },
      "source": [
        "# Explained variance\n",
        "# print(pca$sdev^2) # equivalent to apply(X = pca$x, MARGIN = 2, FUN = var)\n",
        "\n",
        "# Fraction of explained variance\n",
        "print(var <- pca$sdev^2 / sum(pca$sdev^2)) # magical formula to get PC variances\n",
        "\n",
        "# Assign names to the variance vector\n",
        "names(var) <- paste0(\"PC\", 1:length(var)) # makes a named vector\n",
        "\n",
        "# Cumulative fractions of variance should add up to 1\n",
        "print(cumsum(var))"
      ],
      "execution_count": 0,
      "outputs": []
    },
    {
      "cell_type": "markdown",
      "metadata": {
        "id": "nuOAwROnAVQC",
        "colab_type": "text"
      },
      "source": [
        "Explained variance is often presented as a **Screeplot**, which is just a barplot of component variances:\n"
      ]
    },
    {
      "cell_type": "code",
      "metadata": {
        "id": "ovlqtfPiA0Mb",
        "colab_type": "code",
        "colab": {}
      },
      "source": [
        "# This plot helps to see which PCs contain a lot of information, i.e. are biologically meaningful.\n",
        "barplot(100*var, xlab = \"Principal Component\", ylab = \"Component Variance (%)\")\n",
        "\n",
        "# This plot helps to decide which PCs explain enough variance to satisfy a certain criterion, e.g. 80% of total variance.\n",
        "barplot(100*cumsum(var), xlab = \"Principal Component\", ylab = \"Cumulative Component Variance (%)\")\n"
      ],
      "execution_count": 0,
      "outputs": []
    },
    {
      "cell_type": "markdown",
      "metadata": {
        "id": "80n0nizlBJmB",
        "colab_type": "text"
      },
      "source": [
        "#### Variable loadings\n",
        "\n",
        "The variable loadings are the contribution of each original variable to each Principal Component. These are stored in the rotation matrix `$rotation`. I've written a function that vizualizes the relative importance of each variable to each principal component."
      ]
    },
    {
      "cell_type": "code",
      "metadata": {
        "id": "LfdnXVRvBc0f",
        "colab_type": "code",
        "colab": {}
      },
      "source": [
        "loadings <- data.frame(pca$rotation)\n",
        "\n",
        "loadingplot <- function(x, component = 1, abs = TRUE) {\n",
        "  # take absolute values if indicated\n",
        "  if (abs) {x <- abs(x)}\n",
        "\n",
        "  # plot\n",
        "  c <- x[,component]\n",
        "\n",
        "  ggplot(x, aes(x = seq_along(c), xend = seq_along(c),\n",
        "                y = 0, yend = c)) +\n",
        "    geom_segment() +\n",
        "    geom_text(aes(x = seq_along(c), y = c, \n",
        "                  label = rownames(x)), size = 3) +\n",
        "    scale_x_continuous(breaks = seq_along(c), \n",
        "                     labels = seq_along(c)) +\n",
        "    labs(x = \"PC Component\", \n",
        "         y = paste(ifelse(abs, \"Absolute \", \"\"), \"PC Loading (Coefficient)\")) +\n",
        "    ggtitle(paste(\"Component\", component)) +\n",
        "    theme_bw()\n",
        "}\n",
        "\n",
        "loadingplot(loadings, 1, abs = TRUE)\n",
        "loadingplot(loadings, 2, abs = TRUE)\n",
        "loadingplot(loadings, 3, abs = TRUE)"
      ],
      "execution_count": 0,
      "outputs": []
    },
    {
      "cell_type": "markdown",
      "metadata": {
        "id": "19uwFVkvI6dB",
        "colab_type": "text"
      },
      "source": [
        "![Question](https://img.icons8.com/flat_round/64/000000/question-mark.png)\n",
        "- What do the first three components 'measure'?"
      ]
    },
    {
      "cell_type": "markdown",
      "metadata": {
        "id": "MYxSgeGZgVmY",
        "colab_type": "text"
      },
      "source": [
        "#### The relationship between variable loadings and variable scores\n",
        "You can think of the PC variable loadings as the **coefficients** that fit the input data to a PC score. In other words: \n",
        "> the PC axes are the *linear combination* of the *data vectors* (rows containing the measurements per individual) with the loadings as coefficients.\n",
        "\n",
        "The larger the absolute coefficient, the larger the contribution of that variable to the principal component. If a large coefficient is positive, individuals with high values in that variable will have a positive PC axis score."
      ]
    },
    {
      "cell_type": "code",
      "metadata": {
        "id": "_dTw0KE8iSfV",
        "colab_type": "code",
        "colab": {}
      },
      "source": [
        "# define the input to PCA (the scaled and centered variables)\n",
        "pca.input <- as.matrix(scale(d.pca, center = TRUE, scale = TRUE))\n",
        "\n",
        "# from the rotation matrix, calculate the coordinate of SH031 on PC1\n",
        "cat(\"input data\\n\")\n",
        "print(pca.input[\"SH156\",])\n",
        "cat(\"\\nPC 1 loadings\\n\")\n",
        "print(pca$rotation[,1])\n",
        "\n",
        "# calculate by hand\n",
        "cat(\"\\nby hand:\\n\")\n",
        "print(1.606827*0.3319507 + 2.988947*0.3742269 + 3.849139*0.3881035 + 4.332554*0.3659823 + -1.118697*-0.2518057 + -1.703997*-0.3317078 + -1.526139*-0.3272454 + -2.532783*-0.3065936 + 1.356265*0.1160678 + -2.155491*-0.2778463)\n",
        "\n",
        "# calculate one PC score by scalar multiplication\n",
        "cat(\"\\nby scalar multiplication:\\n\")\n",
        "print(pca.input[\"SH156\",] %*% pca$rotation[,1])\n",
        "\n",
        "# calculate all PC scores by matrix multiplication\n",
        "cat(\"\\nidentity test:\\n\")\n",
        "scores <- pca.input %*% pca$rotation\n",
        "print(all.equal(scores, pca$x)) # if TRUE, you did it!"
      ],
      "execution_count": 0,
      "outputs": []
    },
    {
      "cell_type": "markdown",
      "metadata": {
        "id": "8j6hBd5_nSGz",
        "colab_type": "text"
      },
      "source": [
        "#### Mathematics of PCA\n",
        "**Component variances** in a PCA on the unscaled data are the same as the **eigenvalues** of the [**covariance matrix**](https://en.wikipedia.org/wiki/Covariance_matrix) of that data.\n",
        "\n",
        "If the data is scaled (`scale. = TRUE`) before PCA, the component variances are the same as the eigenvalues of the [**correlation matrix**](https://en.wikipedia.org/wiki/Correlation_and_dependence#Correlation_matrices) of that data."
      ]
    },
    {
      "cell_type": "code",
      "metadata": {
        "id": "bbzE4ixWgcHG",
        "colab_type": "code",
        "colab": {}
      },
      "source": [
        "# eigenvalues\n",
        "cat(\"Standard deviations of principal components\\n\")\n",
        "print(pca$sdev^2)\n",
        "\n",
        "cat(\"Eigenvalues of the scaled covariance matrix\\n\")\n",
        "print(eigen(cov(scale(d.pca)))$value)\n",
        "\n",
        "cat(\"Eigenvalues of the correlation matrix\\n\")\n",
        "print(eigen(cor(d.pca))$value)"
      ],
      "execution_count": 0,
      "outputs": []
    },
    {
      "cell_type": "markdown",
      "metadata": {
        "id": "D2G47X6thhtl",
        "colab_type": "text"
      },
      "source": [
        "**PCA loadings** (rotation matrix) on a PCA of some data are the same as the **eigenvectors** of the covariance matrix (`scale. = FALSE`) or correlation matrix (`scale. = TRUE`) of that data. The sign can be the opposite but that does not matter."
      ]
    },
    {
      "cell_type": "code",
      "metadata": {
        "id": "Qbqz9pmyovZ9",
        "colab_type": "code",
        "colab": {}
      },
      "source": [
        "# eigenvectors\n",
        "cat(\"Principal component loadings\\n\")\n",
        "print(head(pca$rotation, n = 3))\n",
        "\n",
        "cat(\"\\nEigenvectors of the scaled covariance matrix\\n\")\n",
        "print(head(eigen(cov(scale(d.pca)))$vectors, n = 3))\n",
        "\n",
        "cat(\"\\nEigenvectors of the correlation matrix\\n\")\n",
        "print(head(eigen(cor(d.pca))$vectors, n = 3))"
      ],
      "execution_count": 0,
      "outputs": []
    },
    {
      "cell_type": "markdown",
      "metadata": {
        "id": "IElndVnFMY5b",
        "colab_type": "text"
      },
      "source": [
        "#### Visualizing PCA results\n",
        "Finally, we want to see the famous scatterplot of the first PCA components, nicely colored by some covariates. The `factoextra` package offers handy functions to plot both the PCA loadings and the PCA scores. Since it has many dependencies, the installation takes a while..."
      ]
    },
    {
      "cell_type": "code",
      "metadata": {
        "id": "qKOXyAitRzHk",
        "colab_type": "code",
        "colab": {
          "base_uri": "https://localhost:8080/",
          "height": 86
        },
        "outputId": "bef88483-eebd-45c0-8185-dbfcfaa5a870"
      },
      "source": [
        "need.pckg <- c(\"factoextra\") # needed for this script\n",
        "if (any(!need.pckg %in% installed.packages())) {\n",
        "  for (i in need.pckg[!need.pckg %in% installed.packages()]) {\n",
        "    cat(\"installing\", i, \"...\\n\")\n",
        "    install.packages(i)\n",
        "  }\n",
        "}\n",
        "library(factoextra)"
      ],
      "execution_count": 3,
      "outputs": [
        {
          "output_type": "stream",
          "text": [
            "Loading required package: ggplot2\n",
            "\n",
            "Welcome! Want to learn more? See two factoextra-related books at https://goo.gl/ve3WBa\n",
            "\n"
          ],
          "name": "stderr"
        }
      ]
    },
    {
      "cell_type": "code",
      "metadata": {
        "id": "mTGIMx-SMrGu",
        "colab_type": "code",
        "colab": {}
      },
      "source": [
        "## PCA variable loadings (here displayed for PC 1 and 2)\n",
        "fviz_pca_var(pca, col.var = \"contrib\", axes = c(1,2),\n",
        "             gradient.cols = c(\"gray25\", \"gray45\", \"red\"), repel = TRUE)\n",
        "\n",
        "## PCA scores (here for PC 1 and 2, with 90% confidence ellipses around Species)\n",
        "fviz_pca_ind(pca, axes = c(1, 2),\n",
        "             habillage = d.imp$Species, # habillage is the factor used for colors\n",
        "             palette = col,\n",
        "             addEllipses = TRUE, ellipse.level = 0.9, # sets size of ellipses\n",
        "             ellipse.alpha = 0.5,  # sets ellipse transparency \n",
        "             label = \"ind\", labelsize = 1, # use label = \"none\" to omit labels\n",
        "             repel = TRUE) +\n",
        "  coord_fixed() # sets the same scale for both components"
      ],
      "execution_count": 0,
      "outputs": []
    },
    {
      "cell_type": "markdown",
      "metadata": {
        "id": "DSAP1-Mxd_Hy",
        "colab_type": "text"
      },
      "source": [
        "![Question](https://img.icons8.com/flat_round/64/000000/question-mark.png)\n",
        "By looking at these visualizations only:\n",
        "- Which variables are highly correlated? Verify using `cor` or `cor.test`.\n",
        "- Which `Species` has the longest leaves and largest leaflets?\n",
        "- Which `Species` have hairy leaves and leaflets?\n",
        "\n",
        "![Question](https://img.icons8.com/flat_round/64/000000/question-mark.png)\n",
        "Carry out a nested PC analysis within the morphologically similar species 1, 3, 4 and 5, and dispaly the results.\n",
        "- Can these species be differentiated based on these leaf characters? If so, by which variables?"
      ]
    },
    {
      "cell_type": "code",
      "metadata": {
        "id": "Ptg7SHMveXub",
        "colab_type": "code",
        "colab": {}
      },
      "source": [
        "# subset\n",
        "d.pca2 <- d.pca[d.imp$Species %in% c(\"Species1\",\"Species2\",\"Species3\",\"Species5\"),]\n",
        "d.imp2 <- d.imp[d.imp$Species %in% c(\"Species1\",\"Species2\",\"Species3\",\"Species5\"),]\n",
        "\n",
        "# PCA\n",
        "pca2 <- prcomp(d.pca2, center = TRUE, scale. = TRUE)\n",
        "\n",
        "# PCA screeplot\n",
        "var2 <- pca2$sdev^2/sum(pca2$sdev^2) \n",
        "barplot(100*var2, xlab = \"Principal Component\", ylab = \"Component Variance (%)\")\n",
        "\n",
        "# PCA loadings\n",
        "fviz_pca_var(pca2, col.var = \"contrib\", axes = c(1,2),\n",
        "             gradient.cols = c(\"gray25\", \"gray45\", \"red\"), repel = TRUE)\n",
        "\n",
        "# PCA scores of PC1 and PC2\n",
        "fviz_pca_ind(pca2, axes = c(1, 2),\n",
        "             habillage = d.imp2$Species, # habillage is the factor used for colors\n",
        "             palette = col,\n",
        "             addEllipses = TRUE, ellipse.level = 0.9, # sets size of ellipses\n",
        "             ellipse.alpha = 0.5,  # sets ellipse transparency \n",
        "             label = \"ind\", labelsize = 1, # use label = \"none\" to omit labels\n",
        "             repel = TRUE) +\n",
        "  coord_fixed() # sets the same scale for both components"
      ],
      "execution_count": 0,
      "outputs": []
    },
    {
      "cell_type": "markdown",
      "metadata": {
        "id": "mHZ9kqpvfbkn",
        "colab_type": "text"
      },
      "source": [
        "***\n",
        "## References\n",
        "- G. W. Oehlert (2000) A first course in design and analysis of experiments. Freeman & Co.\n",
        "- B. Everitt & T. Hothorn (2011) An Introduction to Applied Multivariate Analysis with R. Springer.\n",
        "\n",
        "### Links\n",
        "ANOVA Teaching Notes by Dr. Lukas Meier, Senior Scientist at the Seminar for Statistics, ETH Zurich\n",
        "- https://stat.ethz.ch/~meier/teaching/anova/"
      ]
    },
    {
      "cell_type": "code",
      "metadata": {
        "id": "qlJr5NAmL9v9",
        "colab_type": "code",
        "colab": {}
      },
      "source": [
        ""
      ],
      "execution_count": 0,
      "outputs": []
    }
  ]
}